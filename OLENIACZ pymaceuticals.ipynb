{
 "cells": [
  {
   "cell_type": "markdown",
   "metadata": {},
   "source": [
    "## Observations and Insights "
   ]
  },
  {
   "cell_type": "markdown",
   "metadata": {},
   "source": [
    "1. Capomulin and Ramicane treatment regimens had the most mice in comparison to the other regimens, as seen in the bar graphs. \n",
    "2. Looking at the box plot, Capomulin and Ramicane had the smallest tumors by volume. \n",
    "3. The gender distribution was equal between male and female, however the role of gender in tumor growth and treatment remains unknown. I would look at the tumor volume per regimen grouped by gender. There may be a medication more suitable for one gender over the other, or each gender may process and react differently. \n",
    "4.  By examinging multiple randomly selected test subjects over the course of the the study, Capomulin was successful in shrinking the tumors. The drug began taking effect between day 5 and day 10 when the tumors started to decreased. However, it appears the treatment lost effectiveness around day 35 and the tumors started to increase in volume. Future studies should consider incremently increasing the dosage over time to ensure complete ablation of the tumors.  \n",
    "5. There is a positive correlation of 0.84 between the weight of the mouse and volume of the tumors as demostrated by the linear regression model. This correlation was expected since any increase in volume will influence the mass of the object, thus influencing the weight of the mouse. This is not indicative to the efficiency of the drug regimens. "
   ]
  },
  {
   "cell_type": "code",
   "execution_count": 455,
   "metadata": {},
   "outputs": [
    {
     "data": {
      "text/html": [
       "<div>\n",
       "<style scoped>\n",
       "    .dataframe tbody tr th:only-of-type {\n",
       "        vertical-align: middle;\n",
       "    }\n",
       "\n",
       "    .dataframe tbody tr th {\n",
       "        vertical-align: top;\n",
       "    }\n",
       "\n",
       "    .dataframe thead th {\n",
       "        text-align: right;\n",
       "    }\n",
       "</style>\n",
       "<table border=\"1\" class=\"dataframe\">\n",
       "  <thead>\n",
       "    <tr style=\"text-align: right;\">\n",
       "      <th></th>\n",
       "      <th>Mouse ID</th>\n",
       "      <th>Drug Regimen</th>\n",
       "      <th>Sex</th>\n",
       "      <th>Age_months</th>\n",
       "      <th>Weight (g)</th>\n",
       "      <th>Timepoint</th>\n",
       "      <th>Tumor Volume (mm3)</th>\n",
       "      <th>Metastatic Sites</th>\n",
       "    </tr>\n",
       "  </thead>\n",
       "  <tbody>\n",
       "    <tr>\n",
       "      <th>0</th>\n",
       "      <td>k403</td>\n",
       "      <td>Ramicane</td>\n",
       "      <td>Male</td>\n",
       "      <td>21</td>\n",
       "      <td>16</td>\n",
       "      <td>0</td>\n",
       "      <td>45.000000</td>\n",
       "      <td>0</td>\n",
       "    </tr>\n",
       "    <tr>\n",
       "      <th>1</th>\n",
       "      <td>k403</td>\n",
       "      <td>Ramicane</td>\n",
       "      <td>Male</td>\n",
       "      <td>21</td>\n",
       "      <td>16</td>\n",
       "      <td>5</td>\n",
       "      <td>38.825898</td>\n",
       "      <td>0</td>\n",
       "    </tr>\n",
       "    <tr>\n",
       "      <th>2</th>\n",
       "      <td>k403</td>\n",
       "      <td>Ramicane</td>\n",
       "      <td>Male</td>\n",
       "      <td>21</td>\n",
       "      <td>16</td>\n",
       "      <td>10</td>\n",
       "      <td>35.014271</td>\n",
       "      <td>1</td>\n",
       "    </tr>\n",
       "    <tr>\n",
       "      <th>3</th>\n",
       "      <td>k403</td>\n",
       "      <td>Ramicane</td>\n",
       "      <td>Male</td>\n",
       "      <td>21</td>\n",
       "      <td>16</td>\n",
       "      <td>15</td>\n",
       "      <td>34.223992</td>\n",
       "      <td>1</td>\n",
       "    </tr>\n",
       "    <tr>\n",
       "      <th>4</th>\n",
       "      <td>k403</td>\n",
       "      <td>Ramicane</td>\n",
       "      <td>Male</td>\n",
       "      <td>21</td>\n",
       "      <td>16</td>\n",
       "      <td>20</td>\n",
       "      <td>32.997729</td>\n",
       "      <td>1</td>\n",
       "    </tr>\n",
       "  </tbody>\n",
       "</table>\n",
       "</div>"
      ],
      "text/plain": [
       "  Mouse ID Drug Regimen   Sex  Age_months  Weight (g)  Timepoint  \\\n",
       "0     k403     Ramicane  Male          21          16          0   \n",
       "1     k403     Ramicane  Male          21          16          5   \n",
       "2     k403     Ramicane  Male          21          16         10   \n",
       "3     k403     Ramicane  Male          21          16         15   \n",
       "4     k403     Ramicane  Male          21          16         20   \n",
       "\n",
       "   Tumor Volume (mm3)  Metastatic Sites  \n",
       "0           45.000000                 0  \n",
       "1           38.825898                 0  \n",
       "2           35.014271                 1  \n",
       "3           34.223992                 1  \n",
       "4           32.997729                 1  "
      ]
     },
     "execution_count": 455,
     "metadata": {},
     "output_type": "execute_result"
    }
   ],
   "source": [
    "# Dependencies and Setup\n",
    "import matplotlib.pyplot as plt\n",
    "import pandas as pd\n",
    "import scipy.stats as st\n",
    "import numpy as np\n",
    "\n",
    "# Study data files\n",
    "mouse_metadata_path = \"data/Mouse_metadata.csv\"\n",
    "study_results_path = \"data/Study_results.csv\"\n",
    "\n",
    "# Read the mouse data and the study results\n",
    "mouse_metadata = pd.read_csv(mouse_metadata_path)\n",
    "study_results = pd.read_csv(study_results_path)\n",
    "\n",
    "# Combine the data into a single dataset\n",
    "combined_df = pd.merge(mouse_metadata, study_results, on=\"Mouse ID\", how=\"left\")\n",
    "combined_df.to_csv(\"combined_df.csv\", index=False)\n",
    "# Display the data table for preview\n",
    "combined_df.head()"
   ]
  },
  {
   "cell_type": "code",
   "execution_count": 456,
   "metadata": {},
   "outputs": [
    {
     "data": {
      "text/plain": [
       "249"
      ]
     },
     "execution_count": 456,
     "metadata": {},
     "output_type": "execute_result"
    }
   ],
   "source": [
    "# Checking the number of mice.\n",
    "mice=len(mouse_metadata[\"Mouse ID\"].unique())\n",
    "mice"
   ]
  },
  {
   "cell_type": "markdown",
   "metadata": {},
   "source": [
    "Issue: How do we know there's a duplicate in the first place when the instructions tell us 249 mice were used in the study and 249 mice are shown in the mouse_metadata and study_results. Simply looking at the number of mice won't work! The mice themselves aren't being duplicated nor was the same Mouse ID used for two mice since the weights and ages are the same. The data collection records is being duplicated. \n",
    "Thus, the number of timepoints used (10) and the value counts of each Mouse ID is needed. Then, anything over the max number of time_points would be a duplicate, that is if all the mice reached the 45 day mark, which some do not. "
   ]
  },
  {
   "cell_type": "code",
   "execution_count": 457,
   "metadata": {},
   "outputs": [
    {
     "data": {
      "text/plain": [
       "g989    13\n",
       "z795    10\n",
       "u196    10\n",
       "j755    10\n",
       "m957    10\n",
       "        ..\n",
       "x226     1\n",
       "d133     1\n",
       "x336     1\n",
       "h428     1\n",
       "l872     1\n",
       "Name: Mouse ID, Length: 249, dtype: int64"
      ]
     },
     "execution_count": 457,
     "metadata": {},
     "output_type": "execute_result"
    }
   ],
   "source": [
    "study_record = study_results[\"Mouse ID\"].value_counts()\n",
    "study_record"
   ]
  },
  {
   "cell_type": "code",
   "execution_count": 458,
   "metadata": {},
   "outputs": [
    {
     "data": {
      "text/plain": [
       "g989    5\n",
       "Name: Mouse ID, dtype: int64"
      ]
     },
     "execution_count": 458,
     "metadata": {},
     "output_type": "execute_result"
    }
   ],
   "source": [
    "# Get the duplicate mice by ID number that shows up for Mouse ID and Timepoint.\n",
    "duplicates = study_results.loc[study_results.duplicated(subset=[\"Mouse ID\", \"Timepoint\"]), \"Mouse ID\"].value_counts()\n",
    "duplicates"
   ]
  },
  {
   "cell_type": "code",
   "execution_count": 459,
   "metadata": {
    "scrolled": true
   },
   "outputs": [
    {
     "data": {
      "text/html": [
       "<div>\n",
       "<style scoped>\n",
       "    .dataframe tbody tr th:only-of-type {\n",
       "        vertical-align: middle;\n",
       "    }\n",
       "\n",
       "    .dataframe tbody tr th {\n",
       "        vertical-align: top;\n",
       "    }\n",
       "\n",
       "    .dataframe thead th {\n",
       "        text-align: right;\n",
       "    }\n",
       "</style>\n",
       "<table border=\"1\" class=\"dataframe\">\n",
       "  <thead>\n",
       "    <tr style=\"text-align: right;\">\n",
       "      <th></th>\n",
       "      <th>Mouse ID</th>\n",
       "      <th>Drug Regimen</th>\n",
       "      <th>Sex</th>\n",
       "      <th>Age_months</th>\n",
       "      <th>Weight (g)</th>\n",
       "      <th>Timepoint</th>\n",
       "      <th>Tumor Volume (mm3)</th>\n",
       "      <th>Metastatic Sites</th>\n",
       "    </tr>\n",
       "  </thead>\n",
       "  <tbody>\n",
       "    <tr>\n",
       "      <th>908</th>\n",
       "      <td>g989</td>\n",
       "      <td>Propriva</td>\n",
       "      <td>Female</td>\n",
       "      <td>21</td>\n",
       "      <td>26</td>\n",
       "      <td>0</td>\n",
       "      <td>45.000000</td>\n",
       "      <td>0</td>\n",
       "    </tr>\n",
       "    <tr>\n",
       "      <th>909</th>\n",
       "      <td>g989</td>\n",
       "      <td>Propriva</td>\n",
       "      <td>Female</td>\n",
       "      <td>21</td>\n",
       "      <td>26</td>\n",
       "      <td>0</td>\n",
       "      <td>45.000000</td>\n",
       "      <td>0</td>\n",
       "    </tr>\n",
       "    <tr>\n",
       "      <th>910</th>\n",
       "      <td>g989</td>\n",
       "      <td>Propriva</td>\n",
       "      <td>Female</td>\n",
       "      <td>21</td>\n",
       "      <td>26</td>\n",
       "      <td>5</td>\n",
       "      <td>48.786801</td>\n",
       "      <td>0</td>\n",
       "    </tr>\n",
       "    <tr>\n",
       "      <th>911</th>\n",
       "      <td>g989</td>\n",
       "      <td>Propriva</td>\n",
       "      <td>Female</td>\n",
       "      <td>21</td>\n",
       "      <td>26</td>\n",
       "      <td>5</td>\n",
       "      <td>47.570392</td>\n",
       "      <td>0</td>\n",
       "    </tr>\n",
       "    <tr>\n",
       "      <th>912</th>\n",
       "      <td>g989</td>\n",
       "      <td>Propriva</td>\n",
       "      <td>Female</td>\n",
       "      <td>21</td>\n",
       "      <td>26</td>\n",
       "      <td>10</td>\n",
       "      <td>51.745156</td>\n",
       "      <td>0</td>\n",
       "    </tr>\n",
       "    <tr>\n",
       "      <th>913</th>\n",
       "      <td>g989</td>\n",
       "      <td>Propriva</td>\n",
       "      <td>Female</td>\n",
       "      <td>21</td>\n",
       "      <td>26</td>\n",
       "      <td>10</td>\n",
       "      <td>49.880528</td>\n",
       "      <td>0</td>\n",
       "    </tr>\n",
       "    <tr>\n",
       "      <th>914</th>\n",
       "      <td>g989</td>\n",
       "      <td>Propriva</td>\n",
       "      <td>Female</td>\n",
       "      <td>21</td>\n",
       "      <td>26</td>\n",
       "      <td>15</td>\n",
       "      <td>51.325852</td>\n",
       "      <td>1</td>\n",
       "    </tr>\n",
       "    <tr>\n",
       "      <th>915</th>\n",
       "      <td>g989</td>\n",
       "      <td>Propriva</td>\n",
       "      <td>Female</td>\n",
       "      <td>21</td>\n",
       "      <td>26</td>\n",
       "      <td>15</td>\n",
       "      <td>53.442020</td>\n",
       "      <td>0</td>\n",
       "    </tr>\n",
       "    <tr>\n",
       "      <th>916</th>\n",
       "      <td>g989</td>\n",
       "      <td>Propriva</td>\n",
       "      <td>Female</td>\n",
       "      <td>21</td>\n",
       "      <td>26</td>\n",
       "      <td>20</td>\n",
       "      <td>55.326122</td>\n",
       "      <td>1</td>\n",
       "    </tr>\n",
       "    <tr>\n",
       "      <th>917</th>\n",
       "      <td>g989</td>\n",
       "      <td>Propriva</td>\n",
       "      <td>Female</td>\n",
       "      <td>21</td>\n",
       "      <td>26</td>\n",
       "      <td>20</td>\n",
       "      <td>54.657650</td>\n",
       "      <td>1</td>\n",
       "    </tr>\n",
       "    <tr>\n",
       "      <th>918</th>\n",
       "      <td>g989</td>\n",
       "      <td>Propriva</td>\n",
       "      <td>Female</td>\n",
       "      <td>21</td>\n",
       "      <td>26</td>\n",
       "      <td>25</td>\n",
       "      <td>56.045564</td>\n",
       "      <td>1</td>\n",
       "    </tr>\n",
       "    <tr>\n",
       "      <th>919</th>\n",
       "      <td>g989</td>\n",
       "      <td>Propriva</td>\n",
       "      <td>Female</td>\n",
       "      <td>21</td>\n",
       "      <td>26</td>\n",
       "      <td>30</td>\n",
       "      <td>59.082294</td>\n",
       "      <td>1</td>\n",
       "    </tr>\n",
       "    <tr>\n",
       "      <th>920</th>\n",
       "      <td>g989</td>\n",
       "      <td>Propriva</td>\n",
       "      <td>Female</td>\n",
       "      <td>21</td>\n",
       "      <td>26</td>\n",
       "      <td>35</td>\n",
       "      <td>62.570880</td>\n",
       "      <td>2</td>\n",
       "    </tr>\n",
       "  </tbody>\n",
       "</table>\n",
       "</div>"
      ],
      "text/plain": [
       "    Mouse ID Drug Regimen     Sex  Age_months  Weight (g)  Timepoint  \\\n",
       "908     g989     Propriva  Female          21          26          0   \n",
       "909     g989     Propriva  Female          21          26          0   \n",
       "910     g989     Propriva  Female          21          26          5   \n",
       "911     g989     Propriva  Female          21          26          5   \n",
       "912     g989     Propriva  Female          21          26         10   \n",
       "913     g989     Propriva  Female          21          26         10   \n",
       "914     g989     Propriva  Female          21          26         15   \n",
       "915     g989     Propriva  Female          21          26         15   \n",
       "916     g989     Propriva  Female          21          26         20   \n",
       "917     g989     Propriva  Female          21          26         20   \n",
       "918     g989     Propriva  Female          21          26         25   \n",
       "919     g989     Propriva  Female          21          26         30   \n",
       "920     g989     Propriva  Female          21          26         35   \n",
       "\n",
       "     Tumor Volume (mm3)  Metastatic Sites  \n",
       "908           45.000000                 0  \n",
       "909           45.000000                 0  \n",
       "910           48.786801                 0  \n",
       "911           47.570392                 0  \n",
       "912           51.745156                 0  \n",
       "913           49.880528                 0  \n",
       "914           51.325852                 1  \n",
       "915           53.442020                 0  \n",
       "916           55.326122                 1  \n",
       "917           54.657650                 1  \n",
       "918           56.045564                 1  \n",
       "919           59.082294                 1  \n",
       "920           62.570880                 2  "
      ]
     },
     "execution_count": 459,
     "metadata": {},
     "output_type": "execute_result"
    }
   ],
   "source": [
    "# Optional: Get all the data for the duplicate mouse ID. \n",
    "duplicated_mouse_data=combined_df.loc[combined_df[\"Mouse ID\"] == \"g989\"]\n",
    "duplicated_mouse_data"
   ]
  },
  {
   "cell_type": "code",
   "execution_count": 460,
   "metadata": {},
   "outputs": [
    {
     "data": {
      "text/plain": [
       "248"
      ]
     },
     "execution_count": 460,
     "metadata": {},
     "output_type": "execute_result"
    }
   ],
   "source": [
    "# Create a clean DataFrame by dropping the duplicate mouse by its ID.\n",
    "combined_df.drop(combined_df.loc[combined_df[\"Mouse ID\"]== \"g989\"].index, inplace=True)\n",
    "combined_df.to_csv(\"cleaned_combined_df.csv\", index=False)\n",
    "# Checking the number of mice in the clean DataFrame.\n",
    "mice_check = len(combined_df[\"Mouse ID\"].unique())\n",
    "mice_check"
   ]
  },
  {
   "cell_type": "markdown",
   "metadata": {},
   "source": [
    "## Summary Statistics"
   ]
  },
  {
   "cell_type": "code",
   "execution_count": 461,
   "metadata": {
    "scrolled": true
   },
   "outputs": [
    {
     "data": {
      "text/html": [
       "<style  type=\"text/css\" >\n",
       "</style><table id=\"T_d602538c_f70e_11ea_8672_9cb6d0b98b60\" ><thead>    <tr>        <th class=\"blank level0\" ></th>        <th class=\"col_heading level0 col0\" >Mean</th>        <th class=\"col_heading level0 col1\" >Median</th>        <th class=\"col_heading level0 col2\" >Variance</th>        <th class=\"col_heading level0 col3\" >Standard Variation</th>        <th class=\"col_heading level0 col4\" >SEM</th>    </tr>    <tr>        <th class=\"index_name level0\" >Drug Regimen</th>        <th class=\"blank\" ></th>        <th class=\"blank\" ></th>        <th class=\"blank\" ></th>        <th class=\"blank\" ></th>        <th class=\"blank\" ></th>    </tr></thead><tbody>\n",
       "                <tr>\n",
       "                        <th id=\"T_d602538c_f70e_11ea_8672_9cb6d0b98b60level0_row0\" class=\"row_heading level0 row0\" >Capomulin</th>\n",
       "                        <td id=\"T_d602538c_f70e_11ea_8672_9cb6d0b98b60row0_col0\" class=\"data row0 col0\" >40.68</td>\n",
       "                        <td id=\"T_d602538c_f70e_11ea_8672_9cb6d0b98b60row0_col1\" class=\"data row0 col1\" >41.56</td>\n",
       "                        <td id=\"T_d602538c_f70e_11ea_8672_9cb6d0b98b60row0_col2\" class=\"data row0 col2\" >24.95</td>\n",
       "                        <td id=\"T_d602538c_f70e_11ea_8672_9cb6d0b98b60row0_col3\" class=\"data row0 col3\" >4.99</td>\n",
       "                        <td id=\"T_d602538c_f70e_11ea_8672_9cb6d0b98b60row0_col4\" class=\"data row0 col4\" >0.33</td>\n",
       "            </tr>\n",
       "            <tr>\n",
       "                        <th id=\"T_d602538c_f70e_11ea_8672_9cb6d0b98b60level0_row1\" class=\"row_heading level0 row1\" >Ceftamin</th>\n",
       "                        <td id=\"T_d602538c_f70e_11ea_8672_9cb6d0b98b60row1_col0\" class=\"data row1 col0\" >52.59</td>\n",
       "                        <td id=\"T_d602538c_f70e_11ea_8672_9cb6d0b98b60row1_col1\" class=\"data row1 col1\" >51.78</td>\n",
       "                        <td id=\"T_d602538c_f70e_11ea_8672_9cb6d0b98b60row1_col2\" class=\"data row1 col2\" >39.29</td>\n",
       "                        <td id=\"T_d602538c_f70e_11ea_8672_9cb6d0b98b60row1_col3\" class=\"data row1 col3\" >6.27</td>\n",
       "                        <td id=\"T_d602538c_f70e_11ea_8672_9cb6d0b98b60row1_col4\" class=\"data row1 col4\" >0.47</td>\n",
       "            </tr>\n",
       "            <tr>\n",
       "                        <th id=\"T_d602538c_f70e_11ea_8672_9cb6d0b98b60level0_row2\" class=\"row_heading level0 row2\" >Infubinol</th>\n",
       "                        <td id=\"T_d602538c_f70e_11ea_8672_9cb6d0b98b60row2_col0\" class=\"data row2 col0\" >52.88</td>\n",
       "                        <td id=\"T_d602538c_f70e_11ea_8672_9cb6d0b98b60row2_col1\" class=\"data row2 col1\" >51.82</td>\n",
       "                        <td id=\"T_d602538c_f70e_11ea_8672_9cb6d0b98b60row2_col2\" class=\"data row2 col2\" >43.13</td>\n",
       "                        <td id=\"T_d602538c_f70e_11ea_8672_9cb6d0b98b60row2_col3\" class=\"data row2 col3\" >6.57</td>\n",
       "                        <td id=\"T_d602538c_f70e_11ea_8672_9cb6d0b98b60row2_col4\" class=\"data row2 col4\" >0.49</td>\n",
       "            </tr>\n",
       "            <tr>\n",
       "                        <th id=\"T_d602538c_f70e_11ea_8672_9cb6d0b98b60level0_row3\" class=\"row_heading level0 row3\" >Ketapril</th>\n",
       "                        <td id=\"T_d602538c_f70e_11ea_8672_9cb6d0b98b60row3_col0\" class=\"data row3 col0\" >55.24</td>\n",
       "                        <td id=\"T_d602538c_f70e_11ea_8672_9cb6d0b98b60row3_col1\" class=\"data row3 col1\" >53.70</td>\n",
       "                        <td id=\"T_d602538c_f70e_11ea_8672_9cb6d0b98b60row3_col2\" class=\"data row3 col2\" >68.55</td>\n",
       "                        <td id=\"T_d602538c_f70e_11ea_8672_9cb6d0b98b60row3_col3\" class=\"data row3 col3\" >8.28</td>\n",
       "                        <td id=\"T_d602538c_f70e_11ea_8672_9cb6d0b98b60row3_col4\" class=\"data row3 col4\" >0.60</td>\n",
       "            </tr>\n",
       "            <tr>\n",
       "                        <th id=\"T_d602538c_f70e_11ea_8672_9cb6d0b98b60level0_row4\" class=\"row_heading level0 row4\" >Naftisol</th>\n",
       "                        <td id=\"T_d602538c_f70e_11ea_8672_9cb6d0b98b60row4_col0\" class=\"data row4 col0\" >54.33</td>\n",
       "                        <td id=\"T_d602538c_f70e_11ea_8672_9cb6d0b98b60row4_col1\" class=\"data row4 col1\" >52.51</td>\n",
       "                        <td id=\"T_d602538c_f70e_11ea_8672_9cb6d0b98b60row4_col2\" class=\"data row4 col2\" >66.17</td>\n",
       "                        <td id=\"T_d602538c_f70e_11ea_8672_9cb6d0b98b60row4_col3\" class=\"data row4 col3\" >8.13</td>\n",
       "                        <td id=\"T_d602538c_f70e_11ea_8672_9cb6d0b98b60row4_col4\" class=\"data row4 col4\" >0.60</td>\n",
       "            </tr>\n",
       "            <tr>\n",
       "                        <th id=\"T_d602538c_f70e_11ea_8672_9cb6d0b98b60level0_row5\" class=\"row_heading level0 row5\" >Placebo</th>\n",
       "                        <td id=\"T_d602538c_f70e_11ea_8672_9cb6d0b98b60row5_col0\" class=\"data row5 col0\" >54.03</td>\n",
       "                        <td id=\"T_d602538c_f70e_11ea_8672_9cb6d0b98b60row5_col1\" class=\"data row5 col1\" >52.29</td>\n",
       "                        <td id=\"T_d602538c_f70e_11ea_8672_9cb6d0b98b60row5_col2\" class=\"data row5 col2\" >61.17</td>\n",
       "                        <td id=\"T_d602538c_f70e_11ea_8672_9cb6d0b98b60row5_col3\" class=\"data row5 col3\" >7.82</td>\n",
       "                        <td id=\"T_d602538c_f70e_11ea_8672_9cb6d0b98b60row5_col4\" class=\"data row5 col4\" >0.58</td>\n",
       "            </tr>\n",
       "            <tr>\n",
       "                        <th id=\"T_d602538c_f70e_11ea_8672_9cb6d0b98b60level0_row6\" class=\"row_heading level0 row6\" >Propriva</th>\n",
       "                        <td id=\"T_d602538c_f70e_11ea_8672_9cb6d0b98b60row6_col0\" class=\"data row6 col0\" >52.32</td>\n",
       "                        <td id=\"T_d602538c_f70e_11ea_8672_9cb6d0b98b60row6_col1\" class=\"data row6 col1\" >50.45</td>\n",
       "                        <td id=\"T_d602538c_f70e_11ea_8672_9cb6d0b98b60row6_col2\" class=\"data row6 col2\" >43.85</td>\n",
       "                        <td id=\"T_d602538c_f70e_11ea_8672_9cb6d0b98b60row6_col3\" class=\"data row6 col3\" >6.62</td>\n",
       "                        <td id=\"T_d602538c_f70e_11ea_8672_9cb6d0b98b60row6_col4\" class=\"data row6 col4\" >0.54</td>\n",
       "            </tr>\n",
       "            <tr>\n",
       "                        <th id=\"T_d602538c_f70e_11ea_8672_9cb6d0b98b60level0_row7\" class=\"row_heading level0 row7\" >Ramicane</th>\n",
       "                        <td id=\"T_d602538c_f70e_11ea_8672_9cb6d0b98b60row7_col0\" class=\"data row7 col0\" >40.22</td>\n",
       "                        <td id=\"T_d602538c_f70e_11ea_8672_9cb6d0b98b60row7_col1\" class=\"data row7 col1\" >40.67</td>\n",
       "                        <td id=\"T_d602538c_f70e_11ea_8672_9cb6d0b98b60row7_col2\" class=\"data row7 col2\" >23.49</td>\n",
       "                        <td id=\"T_d602538c_f70e_11ea_8672_9cb6d0b98b60row7_col3\" class=\"data row7 col3\" >4.85</td>\n",
       "                        <td id=\"T_d602538c_f70e_11ea_8672_9cb6d0b98b60row7_col4\" class=\"data row7 col4\" >0.32</td>\n",
       "            </tr>\n",
       "            <tr>\n",
       "                        <th id=\"T_d602538c_f70e_11ea_8672_9cb6d0b98b60level0_row8\" class=\"row_heading level0 row8\" >Stelasyn</th>\n",
       "                        <td id=\"T_d602538c_f70e_11ea_8672_9cb6d0b98b60row8_col0\" class=\"data row8 col0\" >54.23</td>\n",
       "                        <td id=\"T_d602538c_f70e_11ea_8672_9cb6d0b98b60row8_col1\" class=\"data row8 col1\" >52.43</td>\n",
       "                        <td id=\"T_d602538c_f70e_11ea_8672_9cb6d0b98b60row8_col2\" class=\"data row8 col2\" >59.45</td>\n",
       "                        <td id=\"T_d602538c_f70e_11ea_8672_9cb6d0b98b60row8_col3\" class=\"data row8 col3\" >7.71</td>\n",
       "                        <td id=\"T_d602538c_f70e_11ea_8672_9cb6d0b98b60row8_col4\" class=\"data row8 col4\" >0.57</td>\n",
       "            </tr>\n",
       "            <tr>\n",
       "                        <th id=\"T_d602538c_f70e_11ea_8672_9cb6d0b98b60level0_row9\" class=\"row_heading level0 row9\" >Zoniferol</th>\n",
       "                        <td id=\"T_d602538c_f70e_11ea_8672_9cb6d0b98b60row9_col0\" class=\"data row9 col0\" >53.24</td>\n",
       "                        <td id=\"T_d602538c_f70e_11ea_8672_9cb6d0b98b60row9_col1\" class=\"data row9 col1\" >51.82</td>\n",
       "                        <td id=\"T_d602538c_f70e_11ea_8672_9cb6d0b98b60row9_col2\" class=\"data row9 col2\" >48.53</td>\n",
       "                        <td id=\"T_d602538c_f70e_11ea_8672_9cb6d0b98b60row9_col3\" class=\"data row9 col3\" >6.97</td>\n",
       "                        <td id=\"T_d602538c_f70e_11ea_8672_9cb6d0b98b60row9_col4\" class=\"data row9 col4\" >0.52</td>\n",
       "            </tr>\n",
       "    </tbody></table>"
      ],
      "text/plain": [
       "<pandas.io.formats.style.Styler at 0x23f2eff80a0>"
      ]
     },
     "execution_count": 461,
     "metadata": {},
     "output_type": "execute_result"
    }
   ],
   "source": [
    "# Generate a summary statistics table of mean, median, variance, standard deviation, and standard error of mean(SEM) of the tumor volume for each regimen.\n",
    "# This method is the most straighforward, creating multiple series and putting them all together at the end.\n",
    "\n",
    "mean = combined_df.groupby(\"Drug Regimen\").mean()[\"Tumor Volume (mm3)\"]\n",
    "median = combined_df.groupby(\"Drug Regimen\").median()[\"Tumor Volume (mm3)\"]\n",
    "variance = combined_df.groupby(\"Drug Regimen\").var()[\"Tumor Volume (mm3)\"]\n",
    "std_var = combined_df.groupby(\"Drug Regimen\").std()[\"Tumor Volume (mm3)\"]\n",
    "sem = combined_df.groupby(\"Drug Regimen\").sem()[\"Tumor Volume (mm3)\"]\n",
    "\n",
    "summary_by_series_df = pd.DataFrame ({\n",
    "\"Mean\": mean,\n",
    "\"Median\": median,\n",
    "\"Variance\": variance,\n",
    "\"Standard Variation\": std_var,\n",
    "\"SEM\": sem})\n",
    "\n",
    "summary_by_series_df.style.format({\n",
    "\"Mean\": \"{:,.2f}\",\n",
    "\"Median\": \"{:,.2f}\",\n",
    "\"Variance\": \"{:,.2f}\",\n",
    "\"Standard Variation\": \"{:,.2f}\",\n",
    "\"SEM\": \"{:,.2f}\"})"
   ]
  },
  {
   "cell_type": "code",
   "execution_count": 462,
   "metadata": {},
   "outputs": [
    {
     "data": {
      "text/html": [
       "<style  type=\"text/css\" >\n",
       "</style><table id=\"T_d694c06d_f70e_11ea_97af_9cb6d0b98b60\" ><thead>    <tr>        <th class=\"blank level0\" ></th>        <th class=\"col_heading level0 col0\" >mean</th>        <th class=\"col_heading level0 col1\" >median</th>        <th class=\"col_heading level0 col2\" >var</th>        <th class=\"col_heading level0 col3\" >std</th>        <th class=\"col_heading level0 col4\" >sem</th>    </tr>    <tr>        <th class=\"index_name level0\" >Drug Regimen</th>        <th class=\"blank\" ></th>        <th class=\"blank\" ></th>        <th class=\"blank\" ></th>        <th class=\"blank\" ></th>        <th class=\"blank\" ></th>    </tr></thead><tbody>\n",
       "                <tr>\n",
       "                        <th id=\"T_d694c06d_f70e_11ea_97af_9cb6d0b98b60level0_row0\" class=\"row_heading level0 row0\" >Capomulin</th>\n",
       "                        <td id=\"T_d694c06d_f70e_11ea_97af_9cb6d0b98b60row0_col0\" class=\"data row0 col0\" >40.68</td>\n",
       "                        <td id=\"T_d694c06d_f70e_11ea_97af_9cb6d0b98b60row0_col1\" class=\"data row0 col1\" >41.56</td>\n",
       "                        <td id=\"T_d694c06d_f70e_11ea_97af_9cb6d0b98b60row0_col2\" class=\"data row0 col2\" >24.95</td>\n",
       "                        <td id=\"T_d694c06d_f70e_11ea_97af_9cb6d0b98b60row0_col3\" class=\"data row0 col3\" >4.99</td>\n",
       "                        <td id=\"T_d694c06d_f70e_11ea_97af_9cb6d0b98b60row0_col4\" class=\"data row0 col4\" >0.33</td>\n",
       "            </tr>\n",
       "            <tr>\n",
       "                        <th id=\"T_d694c06d_f70e_11ea_97af_9cb6d0b98b60level0_row1\" class=\"row_heading level0 row1\" >Ceftamin</th>\n",
       "                        <td id=\"T_d694c06d_f70e_11ea_97af_9cb6d0b98b60row1_col0\" class=\"data row1 col0\" >52.59</td>\n",
       "                        <td id=\"T_d694c06d_f70e_11ea_97af_9cb6d0b98b60row1_col1\" class=\"data row1 col1\" >51.78</td>\n",
       "                        <td id=\"T_d694c06d_f70e_11ea_97af_9cb6d0b98b60row1_col2\" class=\"data row1 col2\" >39.29</td>\n",
       "                        <td id=\"T_d694c06d_f70e_11ea_97af_9cb6d0b98b60row1_col3\" class=\"data row1 col3\" >6.27</td>\n",
       "                        <td id=\"T_d694c06d_f70e_11ea_97af_9cb6d0b98b60row1_col4\" class=\"data row1 col4\" >0.47</td>\n",
       "            </tr>\n",
       "            <tr>\n",
       "                        <th id=\"T_d694c06d_f70e_11ea_97af_9cb6d0b98b60level0_row2\" class=\"row_heading level0 row2\" >Infubinol</th>\n",
       "                        <td id=\"T_d694c06d_f70e_11ea_97af_9cb6d0b98b60row2_col0\" class=\"data row2 col0\" >52.88</td>\n",
       "                        <td id=\"T_d694c06d_f70e_11ea_97af_9cb6d0b98b60row2_col1\" class=\"data row2 col1\" >51.82</td>\n",
       "                        <td id=\"T_d694c06d_f70e_11ea_97af_9cb6d0b98b60row2_col2\" class=\"data row2 col2\" >43.13</td>\n",
       "                        <td id=\"T_d694c06d_f70e_11ea_97af_9cb6d0b98b60row2_col3\" class=\"data row2 col3\" >6.57</td>\n",
       "                        <td id=\"T_d694c06d_f70e_11ea_97af_9cb6d0b98b60row2_col4\" class=\"data row2 col4\" >0.49</td>\n",
       "            </tr>\n",
       "            <tr>\n",
       "                        <th id=\"T_d694c06d_f70e_11ea_97af_9cb6d0b98b60level0_row3\" class=\"row_heading level0 row3\" >Ketapril</th>\n",
       "                        <td id=\"T_d694c06d_f70e_11ea_97af_9cb6d0b98b60row3_col0\" class=\"data row3 col0\" >55.24</td>\n",
       "                        <td id=\"T_d694c06d_f70e_11ea_97af_9cb6d0b98b60row3_col1\" class=\"data row3 col1\" >53.70</td>\n",
       "                        <td id=\"T_d694c06d_f70e_11ea_97af_9cb6d0b98b60row3_col2\" class=\"data row3 col2\" >68.55</td>\n",
       "                        <td id=\"T_d694c06d_f70e_11ea_97af_9cb6d0b98b60row3_col3\" class=\"data row3 col3\" >8.28</td>\n",
       "                        <td id=\"T_d694c06d_f70e_11ea_97af_9cb6d0b98b60row3_col4\" class=\"data row3 col4\" >0.60</td>\n",
       "            </tr>\n",
       "            <tr>\n",
       "                        <th id=\"T_d694c06d_f70e_11ea_97af_9cb6d0b98b60level0_row4\" class=\"row_heading level0 row4\" >Naftisol</th>\n",
       "                        <td id=\"T_d694c06d_f70e_11ea_97af_9cb6d0b98b60row4_col0\" class=\"data row4 col0\" >54.33</td>\n",
       "                        <td id=\"T_d694c06d_f70e_11ea_97af_9cb6d0b98b60row4_col1\" class=\"data row4 col1\" >52.51</td>\n",
       "                        <td id=\"T_d694c06d_f70e_11ea_97af_9cb6d0b98b60row4_col2\" class=\"data row4 col2\" >66.17</td>\n",
       "                        <td id=\"T_d694c06d_f70e_11ea_97af_9cb6d0b98b60row4_col3\" class=\"data row4 col3\" >8.13</td>\n",
       "                        <td id=\"T_d694c06d_f70e_11ea_97af_9cb6d0b98b60row4_col4\" class=\"data row4 col4\" >0.60</td>\n",
       "            </tr>\n",
       "            <tr>\n",
       "                        <th id=\"T_d694c06d_f70e_11ea_97af_9cb6d0b98b60level0_row5\" class=\"row_heading level0 row5\" >Placebo</th>\n",
       "                        <td id=\"T_d694c06d_f70e_11ea_97af_9cb6d0b98b60row5_col0\" class=\"data row5 col0\" >54.03</td>\n",
       "                        <td id=\"T_d694c06d_f70e_11ea_97af_9cb6d0b98b60row5_col1\" class=\"data row5 col1\" >52.29</td>\n",
       "                        <td id=\"T_d694c06d_f70e_11ea_97af_9cb6d0b98b60row5_col2\" class=\"data row5 col2\" >61.17</td>\n",
       "                        <td id=\"T_d694c06d_f70e_11ea_97af_9cb6d0b98b60row5_col3\" class=\"data row5 col3\" >7.82</td>\n",
       "                        <td id=\"T_d694c06d_f70e_11ea_97af_9cb6d0b98b60row5_col4\" class=\"data row5 col4\" >0.58</td>\n",
       "            </tr>\n",
       "            <tr>\n",
       "                        <th id=\"T_d694c06d_f70e_11ea_97af_9cb6d0b98b60level0_row6\" class=\"row_heading level0 row6\" >Propriva</th>\n",
       "                        <td id=\"T_d694c06d_f70e_11ea_97af_9cb6d0b98b60row6_col0\" class=\"data row6 col0\" >52.32</td>\n",
       "                        <td id=\"T_d694c06d_f70e_11ea_97af_9cb6d0b98b60row6_col1\" class=\"data row6 col1\" >50.45</td>\n",
       "                        <td id=\"T_d694c06d_f70e_11ea_97af_9cb6d0b98b60row6_col2\" class=\"data row6 col2\" >43.85</td>\n",
       "                        <td id=\"T_d694c06d_f70e_11ea_97af_9cb6d0b98b60row6_col3\" class=\"data row6 col3\" >6.62</td>\n",
       "                        <td id=\"T_d694c06d_f70e_11ea_97af_9cb6d0b98b60row6_col4\" class=\"data row6 col4\" >0.54</td>\n",
       "            </tr>\n",
       "            <tr>\n",
       "                        <th id=\"T_d694c06d_f70e_11ea_97af_9cb6d0b98b60level0_row7\" class=\"row_heading level0 row7\" >Ramicane</th>\n",
       "                        <td id=\"T_d694c06d_f70e_11ea_97af_9cb6d0b98b60row7_col0\" class=\"data row7 col0\" >40.22</td>\n",
       "                        <td id=\"T_d694c06d_f70e_11ea_97af_9cb6d0b98b60row7_col1\" class=\"data row7 col1\" >40.67</td>\n",
       "                        <td id=\"T_d694c06d_f70e_11ea_97af_9cb6d0b98b60row7_col2\" class=\"data row7 col2\" >23.49</td>\n",
       "                        <td id=\"T_d694c06d_f70e_11ea_97af_9cb6d0b98b60row7_col3\" class=\"data row7 col3\" >4.85</td>\n",
       "                        <td id=\"T_d694c06d_f70e_11ea_97af_9cb6d0b98b60row7_col4\" class=\"data row7 col4\" >0.32</td>\n",
       "            </tr>\n",
       "            <tr>\n",
       "                        <th id=\"T_d694c06d_f70e_11ea_97af_9cb6d0b98b60level0_row8\" class=\"row_heading level0 row8\" >Stelasyn</th>\n",
       "                        <td id=\"T_d694c06d_f70e_11ea_97af_9cb6d0b98b60row8_col0\" class=\"data row8 col0\" >54.23</td>\n",
       "                        <td id=\"T_d694c06d_f70e_11ea_97af_9cb6d0b98b60row8_col1\" class=\"data row8 col1\" >52.43</td>\n",
       "                        <td id=\"T_d694c06d_f70e_11ea_97af_9cb6d0b98b60row8_col2\" class=\"data row8 col2\" >59.45</td>\n",
       "                        <td id=\"T_d694c06d_f70e_11ea_97af_9cb6d0b98b60row8_col3\" class=\"data row8 col3\" >7.71</td>\n",
       "                        <td id=\"T_d694c06d_f70e_11ea_97af_9cb6d0b98b60row8_col4\" class=\"data row8 col4\" >0.57</td>\n",
       "            </tr>\n",
       "            <tr>\n",
       "                        <th id=\"T_d694c06d_f70e_11ea_97af_9cb6d0b98b60level0_row9\" class=\"row_heading level0 row9\" >Zoniferol</th>\n",
       "                        <td id=\"T_d694c06d_f70e_11ea_97af_9cb6d0b98b60row9_col0\" class=\"data row9 col0\" >53.24</td>\n",
       "                        <td id=\"T_d694c06d_f70e_11ea_97af_9cb6d0b98b60row9_col1\" class=\"data row9 col1\" >51.82</td>\n",
       "                        <td id=\"T_d694c06d_f70e_11ea_97af_9cb6d0b98b60row9_col2\" class=\"data row9 col2\" >48.53</td>\n",
       "                        <td id=\"T_d694c06d_f70e_11ea_97af_9cb6d0b98b60row9_col3\" class=\"data row9 col3\" >6.97</td>\n",
       "                        <td id=\"T_d694c06d_f70e_11ea_97af_9cb6d0b98b60row9_col4\" class=\"data row9 col4\" >0.52</td>\n",
       "            </tr>\n",
       "    </tbody></table>"
      ],
      "text/plain": [
       "<pandas.io.formats.style.Styler at 0x23f24709100>"
      ]
     },
     "execution_count": 462,
     "metadata": {},
     "output_type": "execute_result"
    }
   ],
   "source": [
    "# Generate a summary statistics table of mean, median, variance, standard deviation, and SEM of the tumor volume for each regimen.\n",
    "# This method produces everything in a single groupby function\n",
    "group = combined_df.groupby(\"Drug Regimen\")\n",
    "\n",
    "summary_single_group_df = pd.DataFrame(group.agg([\"mean\", \"median\", \"var\", \"std\", \"sem\"])[\"Tumor Volume (mm3)\"])\n",
    "\n",
    "stylish_summary = summary_single_group_df.style.format({\n",
    "\"mean\": \"{:,.2f}\",\n",
    "\"median\": \"{:,.2f}\",\n",
    "\"var\": \"{:,.2f}\",\n",
    "\"std\": \"{:,.2f}\",\n",
    "\"sem\": \"{:,.2f}\"})\n",
    "\n",
    "stylish_summary"
   ]
  },
  {
   "cell_type": "markdown",
   "metadata": {},
   "source": [
    "## Bar and Pie Charts"
   ]
  },
  {
   "cell_type": "code",
   "execution_count": 463,
   "metadata": {},
   "outputs": [
    {
     "data": {
      "image/png": "[encoded data removed]",
      "text/plain": [
       "<Figure size 1440x720 with 1 Axes>"
      ]
     },
     "metadata": {
      "needs_background": "light"
     },
     "output_type": "display_data"
    },
    {
     "data": {
      "text/plain": [
       "<Figure size 432x288 with 0 Axes>"
      ]
     },
     "metadata": {},
     "output_type": "display_data"
    }
   ],
   "source": [
    "# Generate a bar plot showing the total number of mice for each treatment throughout the course of the study using pandas. \n",
    "mice_by_treatment = combined_df.groupby([\"Drug Regimen\"]).count()[\"Mouse ID\"] \n",
    "\n",
    "plot_pandas = mice_by_treatment.plot.bar(figsize=(20,10), color=\"cadetblue\", alpha=1, align=\"center\")\n",
    "tick_labels = [value for value in x_axis]\n",
    "plt.xticks(rotation=\"horizontal\", fontsize = 14)\n",
    "plt.xlabel(\"Drug Regimen\", fontsize = 16)\n",
    "plt.ylabel(\"Number of Mice\", fontsize = 16)\n",
    "plt.title(\"Number of Mice per Treatment\", fontsize = 20)\n",
    "\n",
    "plt.savefig(\"Bar_plot[Pandas]--Number of Mice per Treatment\")\n",
    "plt.show()"
   ]
  },
  {
   "cell_type": "code",
   "execution_count": 477,
   "metadata": {
    "scrolled": true
   },
   "outputs": [
    {
     "data": {
      "image/png": "[encoded data removed]",
      "text/plain": [
       "<Figure size 1440x720 with 1 Axes>"
      ]
     },
     "metadata": {
      "needs_background": "light"
     },
     "output_type": "display_data"
    }
   ],
   "source": [
    "# Generate a bar plot showing the total number of mice for each treatment throughout the course of the study using pyplot.\n",
    "the_mice =(combined_df.groupby([\"Drug Regimen\"])[\"Mouse ID\"].count()).tolist()\n",
    "\n",
    "x_axis = np.arange(len(mice_by_treatment))\n",
    "fig1, ax1 = plt.subplots(figsize=(20, 10))\n",
    "plt.bar(x_axis, the_mice, color=\"cadetblue\", alpha=1, align=\"center\")\n",
    "tick_labels = [value for value in x_axis]\n",
    "plt.xticks(tick_labels, [\"Capomulin\", \"Ceftamin\", \"Infubinol\", \"Ketapril\", \"Naftisol\", \"Placebo\", \"Propriva\", \"Ramicane\", \"Stelasyn\", \"Zoniferol\"],  rotation=\"horizontal\", fontsize = 14)\n",
    "plt.xlabel(\"Drug Regimen\", fontsize = 16)\n",
    "plt.ylabel(\"Number of Mice\", fontsize = 16)\n",
    "plt.title(\"Number of Mice per Treatment\", fontsize = 20)\n",
    "\n",
    "plt.savefig(\"Bar_plot[PyPlot]--Number of Mice per Treatment\")\n",
    "plt.show()\n"
   ]
  },
  {
   "cell_type": "code",
   "execution_count": 465,
   "metadata": {},
   "outputs": [
    {
     "data": {
      "image/png": "[encoded data removed]",
      "text/plain": [
       "<Figure size 1080x720 with 1 Axes>"
      ]
     },
     "metadata": {},
     "output_type": "display_data"
    }
   ],
   "source": [
    "# Generate a pie plot showing the distribution of female versus male mice using pandas\n",
    "#Set up Dataframe for Gender of mice\n",
    "gender = pd.DataFrame(combined_df.groupby(\"Mouse ID\" )[\"Sex\"].unique())\n",
    "gender.reset_index(inplace = True) \n",
    "#Find values\n",
    "m_v_f = pd.DataFrame(gender[\"Sex\"].value_counts())\n",
    "m_v_f.reset_index(inplace = True)\n",
    "\n",
    "#Change column headers to reflect data \"axes\"\n",
    "m_v_f.columns = [\"Sex\", \"Mouse Count\"]\n",
    "m_v_f[\"Sex\"] = m_v_f[\"Sex\"].str[0]\n",
    "panda_pie = m_v_f.plot(kind = \"pie\", y = \"Mouse Count\", autopct = '%.2f%%', labels = [\"Male\", \"Female\"], legend = False, startangle = 300,\n",
    "title = (\"Distribution of Female vs. Male Mice\"), shadow = False, figsize = (15, 10), colors = [\"cadetblue\", \"salmon\"], textprops= {\"fontsize\":14})\n",
    "panda_pie.title.set_size(20)\n",
    "panda_pie.set_ylabel(' ')\n",
    "panda_pie\n",
    "\n",
    "plt.savefig(\"Pie_plot[Pandas]--Gender Distribution of Test Subjects.png\")"
   ]
  },
  {
   "cell_type": "code",
   "execution_count": 466,
   "metadata": {},
   "outputs": [
    {
     "data": {
      "image/png": "[encoded data removed]",
      "text/plain": [
       "<Figure size 1080x720 with 1 Axes>"
      ]
     },
     "metadata": {},
     "output_type": "display_data"
    },
    {
     "data": {
      "text/plain": [
       "<Figure size 432x288 with 0 Axes>"
      ]
     },
     "metadata": {},
     "output_type": "display_data"
    }
   ],
   "source": [
    "# Generate a pie plot showing the distribution of female versus male mice using pyplot\n",
    "\n",
    "# Create Labels for the sections of the pie\n",
    "gender_labels = m_v_f[\"Sex\"]\n",
    "gender_sizes = m_v_f[\"Mouse Count\"]\n",
    "\n",
    "#Create the pie chart based upon the values \n",
    "plt.fig1, ax1 = plt.subplots(figsize = (15, 10))\n",
    "plt.pie(gender_sizes, labels = gender_labels , colors = [\"cadetblue\", \"salmon\"], autopct = \"%.2f%%\", shadow=False, startangle=300, textprops= {\"fontsize\":14})\n",
    "plt.title(\"Gender Distribution of Test Subjects\", fontsize = 20)\n",
    "\n",
    "plt.savefig(\"Pie_plot[PyPlot]--Gender Distribution of Test Subjects\")\n",
    "plt.show()"
   ]
  },
  {
   "cell_type": "markdown",
   "metadata": {},
   "source": [
    "## Quartiles, Outliers and Boxplots"
   ]
  },
  {
   "cell_type": "code",
   "execution_count": 467,
   "metadata": {},
   "outputs": [],
   "source": [
    "# Calculate the final tumor volume of each mouse across four of the treatment regimens:Capomulin, Ramicane, Infubinol, and Ceftamin\n",
    "\n",
    "#Locate/Seperate data by drug regimen and create dataframe for each to work with\n",
    "Capomulin_df = combined_df.loc[combined_df[\"Drug Regimen\"] == \"Capomulin\",:]\n",
    "Ramicane_df = combined_df.loc[combined_df[\"Drug Regimen\"] == \"Ramicane\", :]\n",
    "Infubinol_df = combined_df.loc[combined_df[\"Drug Regimen\"] == \"Infubinol\", :]\n",
    "Ceftamin_df = combined_df.loc[combined_df[\"Drug Regimen\"] == \"Ceftamin\", :]"
   ]
  },
  {
   "cell_type": "markdown",
   "metadata": {},
   "source": [
    "### Capomulin"
   ]
  },
  {
   "cell_type": "code",
   "execution_count": 468,
   "metadata": {},
   "outputs": [
    {
     "name": "stdout",
     "output_type": "stream",
     "text": [
      "The lower quartile for Capomulin tumors: 32.38\n",
      "The upper quartile for Capomulin tumors: 40.16\n",
      "The interquartile range for Capomulin tumors: 7.78\n",
      "The median for Capomulin tumors: 38.13 \n",
      "Values below 20.71 could be outliers.\n",
      "Values above 51.83 could be outliers.\n"
     ]
    }
   ],
   "source": [
    "# Get last (greatest) timepoint for each mouse\n",
    "Capomulin_lastTP = Capomulin_df.groupby(\"Mouse ID\").max()[\"Timepoint\"]\n",
    "\n",
    "# Calculate final tumor volume of each mouse:  \n",
    "Capomulin_final_vol = pd.DataFrame(Capomulin_lastTP)\n",
    "\n",
    "# Merge this grouped dataframef with the original dataframe to get tumor volume at the last timepoint\n",
    "Capomulin_merge = pd.merge(Capomulin_final_vol, combined_df, on=(\"Mouse ID\",\"Timepoint\"), how=\"left\")\n",
    "Capomulin_tumors = Capomulin_merge[\"Tumor Volume (mm3)\"]\n",
    "\n",
    "# Quartiles & Interquartile Range:\n",
    "quartiles = Capomulin_tumors.quantile([0.25,0.5,0.75])\n",
    "lowerqr = round(quartiles[0.25], 2)\n",
    "median =  round(quartiles[0.5], 2)\n",
    "upperqr = round(quartiles[0.75], 2)\n",
    "interqr = round(upperqr-lowerqr, 2)\n",
    "\n",
    "# Outliers:\n",
    "lower_bound = round(lowerqr - (1.5 * interqr), 2)\n",
    "upper_bound = round(upperqr + (1.5 * interqr), 2)\n",
    "\n",
    "# Output:\n",
    "print(f\"The lower quartile for Capomulin tumors: {lowerqr}\")\n",
    "print(f\"The upper quartile for Capomulin tumors: {upperqr}\")\n",
    "print(f\"The interquartile range for Capomulin tumors: {interqr}\")\n",
    "print(f\"The median for Capomulin tumors: {median} \")\n",
    "print(f\"Values below {lower_bound} could be outliers.\")\n",
    "print(f\"Values above {upper_bound} could be outliers.\")"
   ]
  },
  {
   "cell_type": "markdown",
   "metadata": {},
   "source": [
    "### Ramicane"
   ]
  },
  {
   "cell_type": "code",
   "execution_count": 469,
   "metadata": {},
   "outputs": [
    {
     "name": "stdout",
     "output_type": "stream",
     "text": [
      "The lower quartile of Ramicane tumors is: 31.56\n",
      "The upper quartile of Ramicane tumors is: 40.66\n",
      "The interquartile range of Ramicane tumors is: 9.1\n",
      "The median of Ramicane tumors is: 36.56\n",
      "Values below 17.91 could be outliers.\n",
      "Values above 54.31 could be outliers.\n"
     ]
    }
   ],
   "source": [
    "# Get last (greatest) timepoint for each mouse:\n",
    "Ramicane_lastTP = Ramicane_df.groupby(\"Mouse ID\").max()[\"Timepoint\"]\n",
    "\n",
    "# Calculate final tumor volume of each mouse:  \n",
    "Ramicane_final_vol = pd.DataFrame(Ramicane_lastTP)\n",
    "Ramicane_merge = pd.merge(Ramicane_final_vol, combined_df, on=(\"Mouse ID\",\"Timepoint\"), how=\"left\")\n",
    "Ramicane_tumors = Ramicane_merge[\"Tumor Volume (mm3)\"]\n",
    "\n",
    "# Quartiles & Interquartile Range:\n",
    "quartiles = Ramicane_tumors.quantile([0.25,0.5,0.75])\n",
    "lowerqr = round(quartiles[0.25], 2)\n",
    "median = round(quartiles[0.5], 2)\n",
    "upperqr = round(quartiles[0.75], 2)\n",
    "interqr = round(upperqr - lowerqr, 2)\n",
    "\n",
    "#Outliers:\n",
    "lower_bound = round(lowerqr - (1.5 * interqr), 2)\n",
    "upper_bound = round(upperqr + (1.5 * interqr), 2)\n",
    "\n",
    "#Output:\n",
    "print(f\"The lower quartile of Ramicane tumors is: {lowerqr}\")\n",
    "print(f\"The upper quartile of Ramicane tumors is: {upperqr}\")\n",
    "print(f\"The interquartile range of Ramicane tumors is: {interqr}\")\n",
    "print(f\"The median of Ramicane tumors is: {median}\")\n",
    "print(f\"Values below {lower_bound} could be outliers.\")\n",
    "print(f\"Values above {upper_bound} could be outliers.\")"
   ]
  },
  {
   "cell_type": "markdown",
   "metadata": {},
   "source": [
    "### Infubinal"
   ]
  },
  {
   "cell_type": "code",
   "execution_count": 470,
   "metadata": {},
   "outputs": [
    {
     "name": "stdout",
     "output_type": "stream",
     "text": [
      "The lower quartile of Infubinol tumors is: 54.05\n",
      "The upper quartile of Infubinol tumors is: 65.53\n",
      "The interquartile range of Infubinol tumors is: 11.48\n",
      "The median of Infubinol tumors is: 60.17\n",
      "Values below 36.83 could be outliers.\n",
      "Values above 82.75 could be outliers.\n"
     ]
    }
   ],
   "source": [
    "# Get last (greatest) timepoint for each mouse:\n",
    "Infubinol_lastTP = Infubinol_df.groupby(\"Mouse ID\").max()[\"Timepoint\"]\n",
    "\n",
    "# Calculate final tumor volume of each mouse:  \n",
    "Infubinol_final_vol = pd.DataFrame(Infubinol_lastTP)\n",
    "Infubinol_merge = pd.merge(Infubinol_final_vol, combined_df, on=(\"Mouse ID\",\"Timepoint\"), how=\"left\")\n",
    "Infubinol_tumors = Infubinol_merge[\"Tumor Volume (mm3)\"]\n",
    "\n",
    "# Quartiles & Interquartile Range:\n",
    "quartiles = Infubinol_tumors.quantile([0.25,0.5,0.75])\n",
    "lowerqr = round(quartiles[0.25],2)\n",
    "median = round(quartiles[0.5], 2)\n",
    "upperqr = round(quartiles[0.75], 2)\n",
    "interqr = round(upperqr - lowerqr, 2)\n",
    "\n",
    "# Outliers:\n",
    "lower_bound = round(lowerqr - (1.5 * interqr), 2)\n",
    "upper_bound = round(upperqr + (1.5 * interqr), 2)\n",
    "\n",
    "# Output:\n",
    "print(f\"The lower quartile of Infubinol tumors is: {lowerqr}\")\n",
    "print(f\"The upper quartile of Infubinol tumors is: {upperqr}\")\n",
    "print(f\"The interquartile range of Infubinol tumors is: {interqr}\")\n",
    "print(f\"The median of Infubinol tumors is: {median}\")\n",
    "print(f\"Values below {lower_bound} could be outliers.\")\n",
    "print(f\"Values above {upper_bound} could be outliers.\")"
   ]
  },
  {
   "cell_type": "markdown",
   "metadata": {},
   "source": [
    "### Ceftamin"
   ]
  },
  {
   "cell_type": "code",
   "execution_count": 471,
   "metadata": {},
   "outputs": [
    {
     "name": "stdout",
     "output_type": "stream",
     "text": [
      "The lower quartile of treatment is: 48.72\n",
      "The upper quartile of temperatures is: 64.3\n",
      "The interquartile range of temperatures is: 15.58\n",
      "The the median of temperatures is: 48.72\n",
      "Values below 25.35 could be outliers.\n",
      "Values above 87.67 could be outliers.\n"
     ]
    }
   ],
   "source": [
    "# Get last (greatest) timepoint for each mouse:\n",
    "Ceftamin_lastTP = Ceftamin_df.groupby(\"Mouse ID\").max()[\"Timepoint\"]\n",
    "\n",
    "# Calculate final tumor volume of each mouse:\n",
    "Ceftamin_final_vol = pd.DataFrame(Ceftamin_lastTP)\n",
    "Ceftamin_merge = pd.merge(Ceftamin_final_vol, combined_df, on=(\"Mouse ID\",\"Timepoint\"), how=\"left\")\n",
    "Ceftamin_tumors = Ceftamin_merge[\"Tumor Volume (mm3)\"]\n",
    "\n",
    "# Quartiles & Interquartile Range:\n",
    "quartiles = Ceftamin_tumors.quantile([0.25,0.5,0.75])\n",
    "lowerqr = round(quartiles[0.25], 2)\n",
    "median = round(quartiles[0.25], 2)\n",
    "upperqr = round(quartiles[0.75], 2)\n",
    "interqr = round((upperqr - lowerqr), 2)\n",
    "\n",
    "# Outliers:\n",
    "lower_bound = round(lowerqr - (1.5 * interqr), 2)\n",
    "upper_bound = round(upperqr + (1.5 * interqr), 2)\n",
    "\n",
    "#Output:\n",
    "print(f\"The lower quartile of treatment is: {lowerqr}\")\n",
    "print(f\"The upper quartile of temperatures is: {upperqr}\")\n",
    "print(f\"The interquartile range of temperatures is: {interqr}\")\n",
    "print(f\"The the median of temperatures is: {median}\")\n",
    "print(f\"Values below {lower_bound} could be outliers.\")\n",
    "print(f\"Values above {upper_bound} could be outliers.\")"
   ]
  },
  {
   "cell_type": "markdown",
   "metadata": {},
   "source": [
    "### Boxplot"
   ]
  },
  {
   "cell_type": "code",
   "execution_count": 472,
   "metadata": {
    "scrolled": true
   },
   "outputs": [
    {
     "data": {
      "image/png": "[encoded data removed]",
      "text/plain": [
       "<Figure size 1080x720 with 1 Axes>"
      ]
     },
     "metadata": {
      "needs_background": "light"
     },
     "output_type": "display_data"
    },
    {
     "data": {
      "text/plain": [
       "<Figure size 432x288 with 0 Axes>"
      ]
     },
     "metadata": {},
     "output_type": "display_data"
    }
   ],
   "source": [
    "# Put treatments into a list for for loop (and later for plot labels)\n",
    "treatment = [\"Capomulin\", \"Ramicane\", \"Infubinol\", \"Ceftamin\"]\n",
    "# Create empty list to fill with tumor vol data (for plotting)\n",
    "vol_data = [Capomulin_tumors, Ramicane_tumors, Infubinol_tumors, Ceftamin_tumors]\n",
    "\n",
    "# Generate a box plot of the final tumor volume of each mouse across four regimens of interest\n",
    "fig1, ax1 = plt.subplots(figsize=(15, 10))\n",
    "ax1.set_title(\"Final Tumor Volume vs. Treatment\", fontsize = 20)\n",
    "ax1.set_ylabel(\"Tumor Volume (mm3)\", fontsize = 16)\n",
    "ax1.set_xlabel(\"Treatment\", fontsize = 16)\n",
    "bp=ax1.boxplot(vol_data, labels = treatment, widths = 0.4, patch_artist=True, vert=True)\n",
    "\n",
    "for box in bp[\"boxes\"]:\n",
    "    box.set(color=\"cadetblue\", linewidth=2)\n",
    "    box.set(facecolor = \"cadetblue\")\n",
    "for median in bp[\"medians\"]: \n",
    "    median.set(color =\"salmon\", linewidth = 2)\n",
    "for whisker in bp[\"whiskers\"]: \n",
    "    whisker.set(color =\"cadetblue\", linewidth = 2, linestyle =\":\")\n",
    "for cap in bp[\"caps\"]: \n",
    "    cap.set(color =\"cadetblue\", linewidth = 2) \n",
    "plt.xticks([1, 2, 3, 4], [\"Capomulin\", \"Ramicane\", \"Infubinol\", \"Ceftamin\"], fontsize = 14)\n",
    "\n",
    "plt.savefig(\"Box_plot--Final Tumor Volume vs. Treatment.png\")\n",
    "plt.show()"
   ]
  },
  {
   "cell_type": "markdown",
   "metadata": {},
   "source": [
    "## Line and Scatter Plots"
   ]
  },
  {
   "cell_type": "code",
   "execution_count": 473,
   "metadata": {},
   "outputs": [
    {
     "name": "stdout",
     "output_type": "stream",
     "text": [
      "Random sample selection: s185\n"
     ]
    },
    {
     "data": {
      "text/html": [
       "<div>\n",
       "<style scoped>\n",
       "    .dataframe tbody tr th:only-of-type {\n",
       "        vertical-align: middle;\n",
       "    }\n",
       "\n",
       "    .dataframe tbody tr th {\n",
       "        vertical-align: top;\n",
       "    }\n",
       "\n",
       "    .dataframe thead th {\n",
       "        text-align: right;\n",
       "    }\n",
       "</style>\n",
       "<table border=\"1\" class=\"dataframe\">\n",
       "  <thead>\n",
       "    <tr style=\"text-align: right;\">\n",
       "      <th></th>\n",
       "      <th>Mouse ID</th>\n",
       "      <th>Drug Regimen</th>\n",
       "      <th>Sex</th>\n",
       "      <th>Age_months</th>\n",
       "      <th>Weight (g)</th>\n",
       "      <th>Timepoint</th>\n",
       "      <th>Tumor Volume (mm3)</th>\n",
       "      <th>Metastatic Sites</th>\n",
       "    </tr>\n",
       "  </thead>\n",
       "  <tbody>\n",
       "    <tr>\n",
       "      <th>10</th>\n",
       "      <td>s185</td>\n",
       "      <td>Capomulin</td>\n",
       "      <td>Female</td>\n",
       "      <td>3</td>\n",
       "      <td>17</td>\n",
       "      <td>0</td>\n",
       "      <td>45.000000</td>\n",
       "      <td>0</td>\n",
       "    </tr>\n",
       "    <tr>\n",
       "      <th>11</th>\n",
       "      <td>s185</td>\n",
       "      <td>Capomulin</td>\n",
       "      <td>Female</td>\n",
       "      <td>3</td>\n",
       "      <td>17</td>\n",
       "      <td>5</td>\n",
       "      <td>43.878496</td>\n",
       "      <td>0</td>\n",
       "    </tr>\n",
       "    <tr>\n",
       "      <th>12</th>\n",
       "      <td>s185</td>\n",
       "      <td>Capomulin</td>\n",
       "      <td>Female</td>\n",
       "      <td>3</td>\n",
       "      <td>17</td>\n",
       "      <td>10</td>\n",
       "      <td>37.614948</td>\n",
       "      <td>0</td>\n",
       "    </tr>\n",
       "    <tr>\n",
       "      <th>13</th>\n",
       "      <td>s185</td>\n",
       "      <td>Capomulin</td>\n",
       "      <td>Female</td>\n",
       "      <td>3</td>\n",
       "      <td>17</td>\n",
       "      <td>15</td>\n",
       "      <td>38.177232</td>\n",
       "      <td>0</td>\n",
       "    </tr>\n",
       "    <tr>\n",
       "      <th>14</th>\n",
       "      <td>s185</td>\n",
       "      <td>Capomulin</td>\n",
       "      <td>Female</td>\n",
       "      <td>3</td>\n",
       "      <td>17</td>\n",
       "      <td>20</td>\n",
       "      <td>36.866876</td>\n",
       "      <td>0</td>\n",
       "    </tr>\n",
       "    <tr>\n",
       "      <th>15</th>\n",
       "      <td>s185</td>\n",
       "      <td>Capomulin</td>\n",
       "      <td>Female</td>\n",
       "      <td>3</td>\n",
       "      <td>17</td>\n",
       "      <td>25</td>\n",
       "      <td>33.949940</td>\n",
       "      <td>0</td>\n",
       "    </tr>\n",
       "    <tr>\n",
       "      <th>16</th>\n",
       "      <td>s185</td>\n",
       "      <td>Capomulin</td>\n",
       "      <td>Female</td>\n",
       "      <td>3</td>\n",
       "      <td>17</td>\n",
       "      <td>30</td>\n",
       "      <td>32.959671</td>\n",
       "      <td>1</td>\n",
       "    </tr>\n",
       "    <tr>\n",
       "      <th>17</th>\n",
       "      <td>s185</td>\n",
       "      <td>Capomulin</td>\n",
       "      <td>Female</td>\n",
       "      <td>3</td>\n",
       "      <td>17</td>\n",
       "      <td>35</td>\n",
       "      <td>28.328531</td>\n",
       "      <td>1</td>\n",
       "    </tr>\n",
       "    <tr>\n",
       "      <th>18</th>\n",
       "      <td>s185</td>\n",
       "      <td>Capomulin</td>\n",
       "      <td>Female</td>\n",
       "      <td>3</td>\n",
       "      <td>17</td>\n",
       "      <td>40</td>\n",
       "      <td>25.472143</td>\n",
       "      <td>1</td>\n",
       "    </tr>\n",
       "    <tr>\n",
       "      <th>19</th>\n",
       "      <td>s185</td>\n",
       "      <td>Capomulin</td>\n",
       "      <td>Female</td>\n",
       "      <td>3</td>\n",
       "      <td>17</td>\n",
       "      <td>45</td>\n",
       "      <td>23.343598</td>\n",
       "      <td>1</td>\n",
       "    </tr>\n",
       "  </tbody>\n",
       "</table>\n",
       "</div>"
      ],
      "text/plain": [
       "   Mouse ID Drug Regimen     Sex  Age_months  Weight (g)  Timepoint  \\\n",
       "10     s185    Capomulin  Female           3          17          0   \n",
       "11     s185    Capomulin  Female           3          17          5   \n",
       "12     s185    Capomulin  Female           3          17         10   \n",
       "13     s185    Capomulin  Female           3          17         15   \n",
       "14     s185    Capomulin  Female           3          17         20   \n",
       "15     s185    Capomulin  Female           3          17         25   \n",
       "16     s185    Capomulin  Female           3          17         30   \n",
       "17     s185    Capomulin  Female           3          17         35   \n",
       "18     s185    Capomulin  Female           3          17         40   \n",
       "19     s185    Capomulin  Female           3          17         45   \n",
       "\n",
       "    Tumor Volume (mm3)  Metastatic Sites  \n",
       "10           45.000000                 0  \n",
       "11           43.878496                 0  \n",
       "12           37.614948                 0  \n",
       "13           38.177232                 0  \n",
       "14           36.866876                 0  \n",
       "15           33.949940                 0  \n",
       "16           32.959671                 1  \n",
       "17           28.328531                 1  \n",
       "18           25.472143                 1  \n",
       "19           23.343598                 1  "
      ]
     },
     "execution_count": 473,
     "metadata": {},
     "output_type": "execute_result"
    }
   ],
   "source": [
    "# Generate a line plot of time point/x-axis and versus tumor volume/y-axis for a mouse treated with Capomulin\n",
    "\n",
    "#Randomly select mouse -- manually selecting a mouse would show bias towards mice exhibiting the greatest decrease in tumor volume. \n",
    "#I have avoided such bias by randomly selecting a sample from the mice treated with Capomulin based on the Mouse ID. \n",
    "sample_selection = Capomulin_df.sample(n=1)\n",
    "random_mouse = sample_selection[\"Mouse ID\"].values[0]\n",
    "print(f\"Random sample selection: {random_mouse}\")\n",
    "\n",
    "#Make Dataframe of \"random_mouse\" data \n",
    "sample_mouse = pd.DataFrame(Capomulin_df.loc[Capomulin_df[\"Mouse ID\"] == random_mouse,:])\n",
    "sample_mouse"
   ]
  },
  {
   "cell_type": "code",
   "execution_count": 474,
   "metadata": {},
   "outputs": [
    {
     "data": {
      "image/png": "[encoded data removed]",
      "text/plain": [
       "<Figure size 1080x720 with 1 Axes>"
      ]
     },
     "metadata": {
      "needs_background": "light"
     },
     "output_type": "display_data"
    },
    {
     "data": {
      "text/plain": [
       "<Figure size 432x288 with 0 Axes>"
      ]
     },
     "metadata": {},
     "output_type": "display_data"
    }
   ],
   "source": [
    "#line_plot\n",
    "x_axis = sample_mouse[\"Timepoint\"]\n",
    "y_axis = sample_mouse[\"Tumor Volume (mm3)\"]\n",
    "\n",
    "fig1, ax1 = plt.subplots(figsize = (15, 10))\n",
    "plt.plot(x_axis, y_axis, linewidth = 3, color = \"cadetblue\")\n",
    "plt.title(\"Tumor Volume vs. Time of Randomly Selected Mouse\", fontsize =20)\n",
    "plt.xlabel(\"Timepoint (days)\", fontsize = 14)\n",
    "plt.ylabel(\"Tumor Volume (mm3)\", fontsize = 14)\n",
    "\n",
    "plt.savefig(\"Line_plot--Tumor Volumn vs. Time of Random Mouse.png\")\n",
    "plt.show()"
   ]
  },
  {
   "cell_type": "code",
   "execution_count": 475,
   "metadata": {},
   "outputs": [
    {
     "data": {
      "image/png": "[encoded data removed]",
      "text/plain": [
       "<Figure size 1080x720 with 1 Axes>"
      ]
     },
     "metadata": {
      "needs_background": "light"
     },
     "output_type": "display_data"
    },
    {
     "data": {
      "text/plain": [
       "<Figure size 432x288 with 0 Axes>"
      ]
     },
     "metadata": {},
     "output_type": "display_data"
    }
   ],
   "source": [
    "# Generate a scatter plot of mouse weight versus average tumor volume for the Capomulin regimen\n",
    "\n",
    "fig1, ax1 = plt.subplots(figsize = (15, 10))\n",
    "scatter_plt = Capomulin_df.groupby([\"Mouse ID\"]).mean()\n",
    "plt.scatter(scatter_plt[\"Weight (g)\"], scatter_plt[\"Tumor Volume (mm3)\"], s = 175, color = \"cadetblue\")\n",
    "plt.title(\"Mouse Weight vs. Average Tumor Volume for Capomulin Regimen\", fontsize =20)\n",
    "plt.xlabel(\"Weight (grams)\", fontsize = 14)\n",
    "plt.ylabel(\"Average Tumor Volume (mm3)\", fontsize = 14)\n",
    "\n",
    "plt.savefig(\"Scatter_plot--Mouse Weight vs. Average Tumor Volume for Capomulin.png\")\n",
    "plt.show()"
   ]
  },
  {
   "cell_type": "markdown",
   "metadata": {},
   "source": [
    "## Correlation and Regression"
   ]
  },
  {
   "cell_type": "code",
   "execution_count": 476,
   "metadata": {},
   "outputs": [
    {
     "name": "stdout",
     "output_type": "stream",
     "text": [
      "The correlation between the mouse weight and the average tumor volume is 0.84\n",
      "The slope of the linear regression model is: 0.95\n",
      "The intercept of the linear regression model is: 21.55\n"
     ]
    },
    {
     "data": {
      "image/png": "[encoded data removed]",
      "text/plain": [
       "<Figure size 1080x720 with 1 Axes>"
      ]
     },
     "metadata": {
      "needs_background": "light"
     },
     "output_type": "display_data"
    },
    {
     "data": {
      "text/plain": [
       "<Figure size 432x288 with 0 Axes>"
      ]
     },
     "metadata": {},
     "output_type": "display_data"
    }
   ],
   "source": [
    "# Calculate the correlation coefficient and linear regression model for mouse weight and average tumor volume for the Capomulin regimen\n",
    "\n",
    "#correlation coefficient\n",
    "corr_co = round(st.pearsonr(scatter_plt[\"Weight (g)\"], scatter_plt[\"Tumor Volume (mm3)\"])[0],2)\n",
    "print(f\"The correlation between the mouse weight and the average tumor volume is {corr_co}\")\n",
    "\n",
    "slope, intercept, r_value, p_value, std_err = st.linregress(scatter_plt['Weight (g)'], scatter_plt['Tumor Volume (mm3)'])\n",
    "plt_slope = round(slope, 2)\n",
    "plt_intercept = round(intercept, 2)\n",
    "\n",
    "print(f\"The slope of the linear regression model is: {plt_slope}\")\n",
    "print(f\"The intercept of the linear regression model is: {plt_intercept}\")\n",
    "\n",
    "fig1, ax1 = plt.subplots(figsize = (15, 10))\n",
    "y_values = scatter_plt[\"Weight (g)\"] * plt_slope + plt_intercept\n",
    "plt.scatter(scatter_plt[\"Weight (g)\"], scatter_plt[\"Tumor Volume (mm3)\"], s = 175, color = \"cadetblue\")\n",
    "plt.plot(scatter_plt['Weight (g)'], y_values, linewidth = 3, color = \"salmon\")\n",
    "plt.title(\"Mouse Weight vs. Average Tumor Volume for Capomulin\", fontsize = 20)\n",
    "plt.xlabel(\"Weight (grams)\", fontsize = 14)\n",
    "plt.ylabel(\"Average Tumor Volume (mm3)\", fontsize = 14)\n",
    "equation = \"y = \" + str(plt_slope) + \"x\" \" + \" + str(plt_intercept)\n",
    "plt.text(17.5, 37.5, equation, fontsize = 14)\n",
    "\n",
    "plt.savefig(\"Linear_Regression_Model.png\")\n",
    "plt.show()"
   ]
  },
  {
   "cell_type": "markdown",
   "metadata": {},
   "source": [
    "## Sources"
   ]
  },
  {
   "cell_type": "markdown",
   "metadata": {},
   "source": [
    "* https://appdividend.com/2020/03/07/python-pandas-find-duplicate-rows-in-dataframe-based-on-all-or-selected-columns/#:~:text=duplicated()%20is%20an%20inbuilt,columns%2C%20then%20use%20the%20pandas.\n",
    "* https://thispointer.com/pandas-find-duplicate-rows-in-a-dataframe-based-on-all-or-selected-columns-using-dataframe-duplicated-in-python/\n",
    "* https://stackoverflow.com/questions/18172851/deleting-dataframe-row-in-pandas-based-on-column-value\n",
    "* https://stackoverflow.com/questions/35582531/pandas-subplot-title-size-in-ipython-notebook\n",
    "* https://pandas.pydata.org/pandas-docs/stable/reference/api/pandas.core.groupby.SeriesGroupBy.aggregate.html\n",
    "* https://matplotlib.org/gallery/statistics/boxplot_demo.html\n",
    "* https://matplotlib.org/2.0.2/api/colors_api.html\n",
    "* https://www.geeksforgeeks.org/box-plot-in-python-using-matplotlib/#:~:text=Creating%20Box%20Plot&text=pyplot%20module%20of%20matplotlib%20library,we%20can%20create%20box%20plots.&text=The%20data%20values%20given%20to,box%20plot%20by%20using%20numpy.\n",
    "*https://www.geeksforgeeks.org/python-pandas-dataframe-get_value/\n",
    "*https://pythonspot.com/matplotlib-scatterplot/\n",
    "*https://pandas.pydata.org/pandas-docs/stable/reference/api/pandas.DataFrame.corr.html\n",
    "*https://towardsdatascience.com/simple-and-multiple-linear-regression-with-python-c9ab422ec29c\n",
    "*https://moonbooks.org/Articles/How-to-calculate-the-slope-and-the-intercept-of-a-straight-line-with-python-/\n",
    "*https://www.mathworks.com/matlabcentral/answers/64754-how-can-i-include-an-equation-in-a-scatter-plot-with-linear-regression-line\n"
   ]
  }
 ],
 "metadata": {
  "anaconda-cloud": {},
  "kernelspec": {
   "display_name": "Python 3",
   "language": "python",
   "name": "python3"
  },
  "language_info": {
   "codemirror_mode": {
    "name": "ipython",
    "version": 3
   },
   "file_extension": ".py",
   "mimetype": "text/x-python",
   "name": "python",
   "nbconvert_exporter": "python",
   "pygments_lexer": "ipython3",
   "version": "3.8.3"
  }
 },
 "nbformat": 4,
 "nbformat_minor": 2
}
