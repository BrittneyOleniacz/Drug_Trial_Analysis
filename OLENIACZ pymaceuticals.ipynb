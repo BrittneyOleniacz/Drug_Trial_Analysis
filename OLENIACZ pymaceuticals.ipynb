{
 "cells": [
  {
   "cell_type": "markdown",
   "metadata": {},
   "source": [
    "## Observations and Insights "
   ]
  },
  {
   "cell_type": "markdown",
   "metadata": {},
   "source": [
    "1. \n",
    "2. \n",
    "3. "
   ]
  },
  {
   "cell_type": "code",
   "execution_count": 174,
   "metadata": {},
   "outputs": [
    {
     "data": {
      "text/html": [
       "<div>\n",
       "<style scoped>\n",
       "    .dataframe tbody tr th:only-of-type {\n",
       "        vertical-align: middle;\n",
       "    }\n",
       "\n",
       "    .dataframe tbody tr th {\n",
       "        vertical-align: top;\n",
       "    }\n",
       "\n",
       "    .dataframe thead th {\n",
       "        text-align: right;\n",
       "    }\n",
       "</style>\n",
       "<table border=\"1\" class=\"dataframe\">\n",
       "  <thead>\n",
       "    <tr style=\"text-align: right;\">\n",
       "      <th></th>\n",
       "      <th>Mouse ID</th>\n",
       "      <th>Drug Regimen</th>\n",
       "      <th>Sex</th>\n",
       "      <th>Age_months</th>\n",
       "      <th>Weight (g)</th>\n",
       "      <th>Timepoint</th>\n",
       "      <th>Tumor Volume (mm3)</th>\n",
       "      <th>Metastatic Sites</th>\n",
       "    </tr>\n",
       "  </thead>\n",
       "  <tbody>\n",
       "    <tr>\n",
       "      <th>0</th>\n",
       "      <td>k403</td>\n",
       "      <td>Ramicane</td>\n",
       "      <td>Male</td>\n",
       "      <td>21</td>\n",
       "      <td>16</td>\n",
       "      <td>0</td>\n",
       "      <td>45.000000</td>\n",
       "      <td>0</td>\n",
       "    </tr>\n",
       "    <tr>\n",
       "      <th>1</th>\n",
       "      <td>k403</td>\n",
       "      <td>Ramicane</td>\n",
       "      <td>Male</td>\n",
       "      <td>21</td>\n",
       "      <td>16</td>\n",
       "      <td>5</td>\n",
       "      <td>38.825898</td>\n",
       "      <td>0</td>\n",
       "    </tr>\n",
       "    <tr>\n",
       "      <th>2</th>\n",
       "      <td>k403</td>\n",
       "      <td>Ramicane</td>\n",
       "      <td>Male</td>\n",
       "      <td>21</td>\n",
       "      <td>16</td>\n",
       "      <td>10</td>\n",
       "      <td>35.014271</td>\n",
       "      <td>1</td>\n",
       "    </tr>\n",
       "    <tr>\n",
       "      <th>3</th>\n",
       "      <td>k403</td>\n",
       "      <td>Ramicane</td>\n",
       "      <td>Male</td>\n",
       "      <td>21</td>\n",
       "      <td>16</td>\n",
       "      <td>15</td>\n",
       "      <td>34.223992</td>\n",
       "      <td>1</td>\n",
       "    </tr>\n",
       "    <tr>\n",
       "      <th>4</th>\n",
       "      <td>k403</td>\n",
       "      <td>Ramicane</td>\n",
       "      <td>Male</td>\n",
       "      <td>21</td>\n",
       "      <td>16</td>\n",
       "      <td>20</td>\n",
       "      <td>32.997729</td>\n",
       "      <td>1</td>\n",
       "    </tr>\n",
       "  </tbody>\n",
       "</table>\n",
       "</div>"
      ],
      "text/plain": [
       "  Mouse ID Drug Regimen   Sex  Age_months  Weight (g)  Timepoint  \\\n",
       "0     k403     Ramicane  Male          21          16          0   \n",
       "1     k403     Ramicane  Male          21          16          5   \n",
       "2     k403     Ramicane  Male          21          16         10   \n",
       "3     k403     Ramicane  Male          21          16         15   \n",
       "4     k403     Ramicane  Male          21          16         20   \n",
       "\n",
       "   Tumor Volume (mm3)  Metastatic Sites  \n",
       "0           45.000000                 0  \n",
       "1           38.825898                 0  \n",
       "2           35.014271                 1  \n",
       "3           34.223992                 1  \n",
       "4           32.997729                 1  "
      ]
     },
     "execution_count": 174,
     "metadata": {},
     "output_type": "execute_result"
    }
   ],
   "source": [
    "# Dependencies and Setup\n",
    "import matplotlib.pyplot as plt\n",
    "import pandas as pd\n",
    "import scipy.stats as st\n",
    "import numpy as np\n",
    "\n",
    "# Study data files\n",
    "mouse_metadata_path = \"data/Mouse_metadata.csv\"\n",
    "study_results_path = \"data/Study_results.csv\"\n",
    "\n",
    "# Read the mouse data and the study results\n",
    "mouse_metadata = pd.read_csv(mouse_metadata_path)\n",
    "study_results = pd.read_csv(study_results_path)\n",
    "\n",
    "# Combine the data into a single dataset\n",
    "combined_df = pd.merge(mouse_metadata, study_results, on=\"Mouse ID\", how=\"left\")\n",
    "# Display the data table for preview\n",
    "combined_df.head()"
   ]
  },
  {
   "cell_type": "code",
   "execution_count": 175,
   "metadata": {},
   "outputs": [
    {
     "data": {
      "text/plain": [
       "249"
      ]
     },
     "execution_count": 175,
     "metadata": {},
     "output_type": "execute_result"
    }
   ],
   "source": [
    "# Checking the number of mice.\n",
    "mice=len(mouse_metadata[\"Mouse ID\"].unique())\n",
    "mice"
   ]
  },
  {
   "cell_type": "markdown",
   "metadata": {},
   "source": [
    "Issue: How do we know there's a duplicate in the first place when the instructions tell us 249 mice were used in the study and 249 mice are shown in the mouse_metadata and study_results. Simply looking at the number of mice won't work! The mice themselves aren't being duplicated nor was the same Mouse ID used for two mice since the weights and ages are the same. The data collection records is being duplicated. \n",
    "Thus, the number of timepoints used (10) and the value counts of each Mouse ID is needed. Then, anything over the max number of time_points would be a duplicate, that is if all the mice reached the 45 day mark, which some do not. "
   ]
  },
  {
   "cell_type": "code",
   "execution_count": 176,
   "metadata": {},
   "outputs": [
    {
     "data": {
      "text/plain": [
       "g989    13\n",
       "u364    10\n",
       "c757    10\n",
       "x581    10\n",
       "e227    10\n",
       "        ..\n",
       "l872     1\n",
       "x226     1\n",
       "u153     1\n",
       "t573     1\n",
       "d133     1\n",
       "Name: Mouse ID, Length: 249, dtype: int64"
      ]
     },
     "execution_count": 176,
     "metadata": {},
     "output_type": "execute_result"
    }
   ],
   "source": [
    "study_record = study_results[\"Mouse ID\"].value_counts()\n",
    "study_record"
   ]
  },
  {
   "cell_type": "code",
   "execution_count": 177,
   "metadata": {},
   "outputs": [
    {
     "data": {
      "text/plain": [
       "g989    5\n",
       "Name: Mouse ID, dtype: int64"
      ]
     },
     "execution_count": 177,
     "metadata": {},
     "output_type": "execute_result"
    }
   ],
   "source": [
    "# Get the duplicate mice by ID number that shows up for Mouse ID and Timepoint.\n",
    "duplicates = study_results.loc[study_results.duplicated(subset=[\"Mouse ID\", \"Timepoint\"]), \"Mouse ID\"].value_counts()\n",
    "duplicates"
   ]
  },
  {
   "cell_type": "code",
   "execution_count": 178,
   "metadata": {},
   "outputs": [
    {
     "data": {
      "text/html": [
       "<div>\n",
       "<style scoped>\n",
       "    .dataframe tbody tr th:only-of-type {\n",
       "        vertical-align: middle;\n",
       "    }\n",
       "\n",
       "    .dataframe tbody tr th {\n",
       "        vertical-align: top;\n",
       "    }\n",
       "\n",
       "    .dataframe thead th {\n",
       "        text-align: right;\n",
       "    }\n",
       "</style>\n",
       "<table border=\"1\" class=\"dataframe\">\n",
       "  <thead>\n",
       "    <tr style=\"text-align: right;\">\n",
       "      <th></th>\n",
       "      <th>Mouse ID</th>\n",
       "      <th>Drug Regimen</th>\n",
       "      <th>Sex</th>\n",
       "      <th>Age_months</th>\n",
       "      <th>Weight (g)</th>\n",
       "      <th>Timepoint</th>\n",
       "      <th>Tumor Volume (mm3)</th>\n",
       "      <th>Metastatic Sites</th>\n",
       "    </tr>\n",
       "  </thead>\n",
       "  <tbody>\n",
       "    <tr>\n",
       "      <th>908</th>\n",
       "      <td>g989</td>\n",
       "      <td>Propriva</td>\n",
       "      <td>Female</td>\n",
       "      <td>21</td>\n",
       "      <td>26</td>\n",
       "      <td>0</td>\n",
       "      <td>45.000000</td>\n",
       "      <td>0</td>\n",
       "    </tr>\n",
       "    <tr>\n",
       "      <th>909</th>\n",
       "      <td>g989</td>\n",
       "      <td>Propriva</td>\n",
       "      <td>Female</td>\n",
       "      <td>21</td>\n",
       "      <td>26</td>\n",
       "      <td>0</td>\n",
       "      <td>45.000000</td>\n",
       "      <td>0</td>\n",
       "    </tr>\n",
       "    <tr>\n",
       "      <th>910</th>\n",
       "      <td>g989</td>\n",
       "      <td>Propriva</td>\n",
       "      <td>Female</td>\n",
       "      <td>21</td>\n",
       "      <td>26</td>\n",
       "      <td>5</td>\n",
       "      <td>48.786801</td>\n",
       "      <td>0</td>\n",
       "    </tr>\n",
       "    <tr>\n",
       "      <th>911</th>\n",
       "      <td>g989</td>\n",
       "      <td>Propriva</td>\n",
       "      <td>Female</td>\n",
       "      <td>21</td>\n",
       "      <td>26</td>\n",
       "      <td>5</td>\n",
       "      <td>47.570392</td>\n",
       "      <td>0</td>\n",
       "    </tr>\n",
       "    <tr>\n",
       "      <th>912</th>\n",
       "      <td>g989</td>\n",
       "      <td>Propriva</td>\n",
       "      <td>Female</td>\n",
       "      <td>21</td>\n",
       "      <td>26</td>\n",
       "      <td>10</td>\n",
       "      <td>51.745156</td>\n",
       "      <td>0</td>\n",
       "    </tr>\n",
       "    <tr>\n",
       "      <th>913</th>\n",
       "      <td>g989</td>\n",
       "      <td>Propriva</td>\n",
       "      <td>Female</td>\n",
       "      <td>21</td>\n",
       "      <td>26</td>\n",
       "      <td>10</td>\n",
       "      <td>49.880528</td>\n",
       "      <td>0</td>\n",
       "    </tr>\n",
       "    <tr>\n",
       "      <th>914</th>\n",
       "      <td>g989</td>\n",
       "      <td>Propriva</td>\n",
       "      <td>Female</td>\n",
       "      <td>21</td>\n",
       "      <td>26</td>\n",
       "      <td>15</td>\n",
       "      <td>51.325852</td>\n",
       "      <td>1</td>\n",
       "    </tr>\n",
       "    <tr>\n",
       "      <th>915</th>\n",
       "      <td>g989</td>\n",
       "      <td>Propriva</td>\n",
       "      <td>Female</td>\n",
       "      <td>21</td>\n",
       "      <td>26</td>\n",
       "      <td>15</td>\n",
       "      <td>53.442020</td>\n",
       "      <td>0</td>\n",
       "    </tr>\n",
       "    <tr>\n",
       "      <th>916</th>\n",
       "      <td>g989</td>\n",
       "      <td>Propriva</td>\n",
       "      <td>Female</td>\n",
       "      <td>21</td>\n",
       "      <td>26</td>\n",
       "      <td>20</td>\n",
       "      <td>55.326122</td>\n",
       "      <td>1</td>\n",
       "    </tr>\n",
       "    <tr>\n",
       "      <th>917</th>\n",
       "      <td>g989</td>\n",
       "      <td>Propriva</td>\n",
       "      <td>Female</td>\n",
       "      <td>21</td>\n",
       "      <td>26</td>\n",
       "      <td>20</td>\n",
       "      <td>54.657650</td>\n",
       "      <td>1</td>\n",
       "    </tr>\n",
       "    <tr>\n",
       "      <th>918</th>\n",
       "      <td>g989</td>\n",
       "      <td>Propriva</td>\n",
       "      <td>Female</td>\n",
       "      <td>21</td>\n",
       "      <td>26</td>\n",
       "      <td>25</td>\n",
       "      <td>56.045564</td>\n",
       "      <td>1</td>\n",
       "    </tr>\n",
       "    <tr>\n",
       "      <th>919</th>\n",
       "      <td>g989</td>\n",
       "      <td>Propriva</td>\n",
       "      <td>Female</td>\n",
       "      <td>21</td>\n",
       "      <td>26</td>\n",
       "      <td>30</td>\n",
       "      <td>59.082294</td>\n",
       "      <td>1</td>\n",
       "    </tr>\n",
       "    <tr>\n",
       "      <th>920</th>\n",
       "      <td>g989</td>\n",
       "      <td>Propriva</td>\n",
       "      <td>Female</td>\n",
       "      <td>21</td>\n",
       "      <td>26</td>\n",
       "      <td>35</td>\n",
       "      <td>62.570880</td>\n",
       "      <td>2</td>\n",
       "    </tr>\n",
       "  </tbody>\n",
       "</table>\n",
       "</div>"
      ],
      "text/plain": [
       "    Mouse ID Drug Regimen     Sex  Age_months  Weight (g)  Timepoint  \\\n",
       "908     g989     Propriva  Female          21          26          0   \n",
       "909     g989     Propriva  Female          21          26          0   \n",
       "910     g989     Propriva  Female          21          26          5   \n",
       "911     g989     Propriva  Female          21          26          5   \n",
       "912     g989     Propriva  Female          21          26         10   \n",
       "913     g989     Propriva  Female          21          26         10   \n",
       "914     g989     Propriva  Female          21          26         15   \n",
       "915     g989     Propriva  Female          21          26         15   \n",
       "916     g989     Propriva  Female          21          26         20   \n",
       "917     g989     Propriva  Female          21          26         20   \n",
       "918     g989     Propriva  Female          21          26         25   \n",
       "919     g989     Propriva  Female          21          26         30   \n",
       "920     g989     Propriva  Female          21          26         35   \n",
       "\n",
       "     Tumor Volume (mm3)  Metastatic Sites  \n",
       "908           45.000000                 0  \n",
       "909           45.000000                 0  \n",
       "910           48.786801                 0  \n",
       "911           47.570392                 0  \n",
       "912           51.745156                 0  \n",
       "913           49.880528                 0  \n",
       "914           51.325852                 1  \n",
       "915           53.442020                 0  \n",
       "916           55.326122                 1  \n",
       "917           54.657650                 1  \n",
       "918           56.045564                 1  \n",
       "919           59.082294                 1  \n",
       "920           62.570880                 2  "
      ]
     },
     "execution_count": 178,
     "metadata": {},
     "output_type": "execute_result"
    }
   ],
   "source": [
    "# Optional: Get all the data for the duplicate mouse ID. \n",
    "duplicated_mouse_data=combined_df.loc[combined_df[\"Mouse ID\"] == \"g989\"]\n",
    "duplicated_mouse_data"
   ]
  },
  {
   "cell_type": "code",
   "execution_count": 179,
   "metadata": {},
   "outputs": [
    {
     "data": {
      "text/plain": [
       "248"
      ]
     },
     "execution_count": 179,
     "metadata": {},
     "output_type": "execute_result"
    }
   ],
   "source": [
    "# Create a clean DataFrame by dropping the duplicate mouse by its ID.\n",
    "combined_df.drop(combined_df.loc[combined_df[\"Mouse ID\"]== \"g989\"].index, inplace=True)\n",
    "\n",
    "# Checking the number of mice in the clean DataFrame.\n",
    "mice_check = len(combined_df[\"Mouse ID\"].unique())\n",
    "mice_check"
   ]
  },
  {
   "cell_type": "markdown",
   "metadata": {},
   "source": [
    "## Summary Statistics"
   ]
  },
  {
   "cell_type": "code",
   "execution_count": 180,
   "metadata": {
    "scrolled": true
   },
   "outputs": [
    {
     "data": {
      "text/html": [
       "<style  type=\"text/css\" >\n",
       "</style><table id=\"T_eaffc1f4_e7eb_11ea_b9cf_9cb6d0b98b60\" ><thead>    <tr>        <th class=\"blank level0\" ></th>        <th class=\"col_heading level0 col0\" >Mean</th>        <th class=\"col_heading level0 col1\" >Median</th>        <th class=\"col_heading level0 col2\" >Variance</th>        <th class=\"col_heading level0 col3\" >Standard Variation</th>        <th class=\"col_heading level0 col4\" >SEM</th>    </tr>    <tr>        <th class=\"index_name level0\" >Drug Regimen</th>        <th class=\"blank\" ></th>        <th class=\"blank\" ></th>        <th class=\"blank\" ></th>        <th class=\"blank\" ></th>        <th class=\"blank\" ></th>    </tr></thead><tbody>\n",
       "                <tr>\n",
       "                        <th id=\"T_eaffc1f4_e7eb_11ea_b9cf_9cb6d0b98b60level0_row0\" class=\"row_heading level0 row0\" >Capomulin</th>\n",
       "                        <td id=\"T_eaffc1f4_e7eb_11ea_b9cf_9cb6d0b98b60row0_col0\" class=\"data row0 col0\" >40.68</td>\n",
       "                        <td id=\"T_eaffc1f4_e7eb_11ea_b9cf_9cb6d0b98b60row0_col1\" class=\"data row0 col1\" >41.56</td>\n",
       "                        <td id=\"T_eaffc1f4_e7eb_11ea_b9cf_9cb6d0b98b60row0_col2\" class=\"data row0 col2\" >24.95</td>\n",
       "                        <td id=\"T_eaffc1f4_e7eb_11ea_b9cf_9cb6d0b98b60row0_col3\" class=\"data row0 col3\" >4.99</td>\n",
       "                        <td id=\"T_eaffc1f4_e7eb_11ea_b9cf_9cb6d0b98b60row0_col4\" class=\"data row0 col4\" >0.33</td>\n",
       "            </tr>\n",
       "            <tr>\n",
       "                        <th id=\"T_eaffc1f4_e7eb_11ea_b9cf_9cb6d0b98b60level0_row1\" class=\"row_heading level0 row1\" >Ceftamin</th>\n",
       "                        <td id=\"T_eaffc1f4_e7eb_11ea_b9cf_9cb6d0b98b60row1_col0\" class=\"data row1 col0\" >52.59</td>\n",
       "                        <td id=\"T_eaffc1f4_e7eb_11ea_b9cf_9cb6d0b98b60row1_col1\" class=\"data row1 col1\" >51.78</td>\n",
       "                        <td id=\"T_eaffc1f4_e7eb_11ea_b9cf_9cb6d0b98b60row1_col2\" class=\"data row1 col2\" >39.29</td>\n",
       "                        <td id=\"T_eaffc1f4_e7eb_11ea_b9cf_9cb6d0b98b60row1_col3\" class=\"data row1 col3\" >6.27</td>\n",
       "                        <td id=\"T_eaffc1f4_e7eb_11ea_b9cf_9cb6d0b98b60row1_col4\" class=\"data row1 col4\" >0.47</td>\n",
       "            </tr>\n",
       "            <tr>\n",
       "                        <th id=\"T_eaffc1f4_e7eb_11ea_b9cf_9cb6d0b98b60level0_row2\" class=\"row_heading level0 row2\" >Infubinol</th>\n",
       "                        <td id=\"T_eaffc1f4_e7eb_11ea_b9cf_9cb6d0b98b60row2_col0\" class=\"data row2 col0\" >52.88</td>\n",
       "                        <td id=\"T_eaffc1f4_e7eb_11ea_b9cf_9cb6d0b98b60row2_col1\" class=\"data row2 col1\" >51.82</td>\n",
       "                        <td id=\"T_eaffc1f4_e7eb_11ea_b9cf_9cb6d0b98b60row2_col2\" class=\"data row2 col2\" >43.13</td>\n",
       "                        <td id=\"T_eaffc1f4_e7eb_11ea_b9cf_9cb6d0b98b60row2_col3\" class=\"data row2 col3\" >6.57</td>\n",
       "                        <td id=\"T_eaffc1f4_e7eb_11ea_b9cf_9cb6d0b98b60row2_col4\" class=\"data row2 col4\" >0.49</td>\n",
       "            </tr>\n",
       "            <tr>\n",
       "                        <th id=\"T_eaffc1f4_e7eb_11ea_b9cf_9cb6d0b98b60level0_row3\" class=\"row_heading level0 row3\" >Ketapril</th>\n",
       "                        <td id=\"T_eaffc1f4_e7eb_11ea_b9cf_9cb6d0b98b60row3_col0\" class=\"data row3 col0\" >55.24</td>\n",
       "                        <td id=\"T_eaffc1f4_e7eb_11ea_b9cf_9cb6d0b98b60row3_col1\" class=\"data row3 col1\" >53.70</td>\n",
       "                        <td id=\"T_eaffc1f4_e7eb_11ea_b9cf_9cb6d0b98b60row3_col2\" class=\"data row3 col2\" >68.55</td>\n",
       "                        <td id=\"T_eaffc1f4_e7eb_11ea_b9cf_9cb6d0b98b60row3_col3\" class=\"data row3 col3\" >8.28</td>\n",
       "                        <td id=\"T_eaffc1f4_e7eb_11ea_b9cf_9cb6d0b98b60row3_col4\" class=\"data row3 col4\" >0.60</td>\n",
       "            </tr>\n",
       "            <tr>\n",
       "                        <th id=\"T_eaffc1f4_e7eb_11ea_b9cf_9cb6d0b98b60level0_row4\" class=\"row_heading level0 row4\" >Naftisol</th>\n",
       "                        <td id=\"T_eaffc1f4_e7eb_11ea_b9cf_9cb6d0b98b60row4_col0\" class=\"data row4 col0\" >54.33</td>\n",
       "                        <td id=\"T_eaffc1f4_e7eb_11ea_b9cf_9cb6d0b98b60row4_col1\" class=\"data row4 col1\" >52.51</td>\n",
       "                        <td id=\"T_eaffc1f4_e7eb_11ea_b9cf_9cb6d0b98b60row4_col2\" class=\"data row4 col2\" >66.17</td>\n",
       "                        <td id=\"T_eaffc1f4_e7eb_11ea_b9cf_9cb6d0b98b60row4_col3\" class=\"data row4 col3\" >8.13</td>\n",
       "                        <td id=\"T_eaffc1f4_e7eb_11ea_b9cf_9cb6d0b98b60row4_col4\" class=\"data row4 col4\" >0.60</td>\n",
       "            </tr>\n",
       "            <tr>\n",
       "                        <th id=\"T_eaffc1f4_e7eb_11ea_b9cf_9cb6d0b98b60level0_row5\" class=\"row_heading level0 row5\" >Placebo</th>\n",
       "                        <td id=\"T_eaffc1f4_e7eb_11ea_b9cf_9cb6d0b98b60row5_col0\" class=\"data row5 col0\" >54.03</td>\n",
       "                        <td id=\"T_eaffc1f4_e7eb_11ea_b9cf_9cb6d0b98b60row5_col1\" class=\"data row5 col1\" >52.29</td>\n",
       "                        <td id=\"T_eaffc1f4_e7eb_11ea_b9cf_9cb6d0b98b60row5_col2\" class=\"data row5 col2\" >61.17</td>\n",
       "                        <td id=\"T_eaffc1f4_e7eb_11ea_b9cf_9cb6d0b98b60row5_col3\" class=\"data row5 col3\" >7.82</td>\n",
       "                        <td id=\"T_eaffc1f4_e7eb_11ea_b9cf_9cb6d0b98b60row5_col4\" class=\"data row5 col4\" >0.58</td>\n",
       "            </tr>\n",
       "            <tr>\n",
       "                        <th id=\"T_eaffc1f4_e7eb_11ea_b9cf_9cb6d0b98b60level0_row6\" class=\"row_heading level0 row6\" >Propriva</th>\n",
       "                        <td id=\"T_eaffc1f4_e7eb_11ea_b9cf_9cb6d0b98b60row6_col0\" class=\"data row6 col0\" >52.32</td>\n",
       "                        <td id=\"T_eaffc1f4_e7eb_11ea_b9cf_9cb6d0b98b60row6_col1\" class=\"data row6 col1\" >50.45</td>\n",
       "                        <td id=\"T_eaffc1f4_e7eb_11ea_b9cf_9cb6d0b98b60row6_col2\" class=\"data row6 col2\" >43.85</td>\n",
       "                        <td id=\"T_eaffc1f4_e7eb_11ea_b9cf_9cb6d0b98b60row6_col3\" class=\"data row6 col3\" >6.62</td>\n",
       "                        <td id=\"T_eaffc1f4_e7eb_11ea_b9cf_9cb6d0b98b60row6_col4\" class=\"data row6 col4\" >0.54</td>\n",
       "            </tr>\n",
       "            <tr>\n",
       "                        <th id=\"T_eaffc1f4_e7eb_11ea_b9cf_9cb6d0b98b60level0_row7\" class=\"row_heading level0 row7\" >Ramicane</th>\n",
       "                        <td id=\"T_eaffc1f4_e7eb_11ea_b9cf_9cb6d0b98b60row7_col0\" class=\"data row7 col0\" >40.22</td>\n",
       "                        <td id=\"T_eaffc1f4_e7eb_11ea_b9cf_9cb6d0b98b60row7_col1\" class=\"data row7 col1\" >40.67</td>\n",
       "                        <td id=\"T_eaffc1f4_e7eb_11ea_b9cf_9cb6d0b98b60row7_col2\" class=\"data row7 col2\" >23.49</td>\n",
       "                        <td id=\"T_eaffc1f4_e7eb_11ea_b9cf_9cb6d0b98b60row7_col3\" class=\"data row7 col3\" >4.85</td>\n",
       "                        <td id=\"T_eaffc1f4_e7eb_11ea_b9cf_9cb6d0b98b60row7_col4\" class=\"data row7 col4\" >0.32</td>\n",
       "            </tr>\n",
       "            <tr>\n",
       "                        <th id=\"T_eaffc1f4_e7eb_11ea_b9cf_9cb6d0b98b60level0_row8\" class=\"row_heading level0 row8\" >Stelasyn</th>\n",
       "                        <td id=\"T_eaffc1f4_e7eb_11ea_b9cf_9cb6d0b98b60row8_col0\" class=\"data row8 col0\" >54.23</td>\n",
       "                        <td id=\"T_eaffc1f4_e7eb_11ea_b9cf_9cb6d0b98b60row8_col1\" class=\"data row8 col1\" >52.43</td>\n",
       "                        <td id=\"T_eaffc1f4_e7eb_11ea_b9cf_9cb6d0b98b60row8_col2\" class=\"data row8 col2\" >59.45</td>\n",
       "                        <td id=\"T_eaffc1f4_e7eb_11ea_b9cf_9cb6d0b98b60row8_col3\" class=\"data row8 col3\" >7.71</td>\n",
       "                        <td id=\"T_eaffc1f4_e7eb_11ea_b9cf_9cb6d0b98b60row8_col4\" class=\"data row8 col4\" >0.57</td>\n",
       "            </tr>\n",
       "            <tr>\n",
       "                        <th id=\"T_eaffc1f4_e7eb_11ea_b9cf_9cb6d0b98b60level0_row9\" class=\"row_heading level0 row9\" >Zoniferol</th>\n",
       "                        <td id=\"T_eaffc1f4_e7eb_11ea_b9cf_9cb6d0b98b60row9_col0\" class=\"data row9 col0\" >53.24</td>\n",
       "                        <td id=\"T_eaffc1f4_e7eb_11ea_b9cf_9cb6d0b98b60row9_col1\" class=\"data row9 col1\" >51.82</td>\n",
       "                        <td id=\"T_eaffc1f4_e7eb_11ea_b9cf_9cb6d0b98b60row9_col2\" class=\"data row9 col2\" >48.53</td>\n",
       "                        <td id=\"T_eaffc1f4_e7eb_11ea_b9cf_9cb6d0b98b60row9_col3\" class=\"data row9 col3\" >6.97</td>\n",
       "                        <td id=\"T_eaffc1f4_e7eb_11ea_b9cf_9cb6d0b98b60row9_col4\" class=\"data row9 col4\" >0.52</td>\n",
       "            </tr>\n",
       "    </tbody></table>"
      ],
      "text/plain": [
       "<pandas.io.formats.style.Styler at 0x1b79cd4eb38>"
      ]
     },
     "execution_count": 180,
     "metadata": {},
     "output_type": "execute_result"
    }
   ],
   "source": [
    "# Generate a summary statistics table of mean, median, variance, standard deviation, and standard error of mean(SEM) of the tumor volume for each regimen.\n",
    "# This method is the most straighforward, creating multiple series and putting them all together at the end.\n",
    "\n",
    "mean = combined_df.groupby(\"Drug Regimen\").mean()[\"Tumor Volume (mm3)\"]\n",
    "median = combined_df.groupby(\"Drug Regimen\").median()[\"Tumor Volume (mm3)\"]\n",
    "variance = combined_df.groupby(\"Drug Regimen\").var()[\"Tumor Volume (mm3)\"]\n",
    "std_var = combined_df.groupby(\"Drug Regimen\").std()[\"Tumor Volume (mm3)\"]\n",
    "sem = combined_df.groupby(\"Drug Regimen\").sem()[\"Tumor Volume (mm3)\"]\n",
    "\n",
    "summary_by_series_df = pd.DataFrame ({\n",
    "\"Mean\": mean,\n",
    "\"Median\": median,\n",
    "\"Variance\": variance,\n",
    "\"Standard Variation\": std_var,\n",
    "\"SEM\": sem})\n",
    "\n",
    "summary_by_series_df.style.format({\n",
    "\"Mean\": \"{:,.2f}\",\n",
    "\"Median\": \"{:,.2f}\",\n",
    "\"Variance\": \"{:,.2f}\",\n",
    "\"Standard Variation\": \"{:,.2f}\",\n",
    "\"SEM\": \"{:,.2f}\"})"
   ]
  },
  {
   "cell_type": "code",
   "execution_count": 181,
   "metadata": {},
   "outputs": [
    {
     "data": {
      "text/html": [
       "<style  type=\"text/css\" >\n",
       "</style><table id=\"T_eb7b1678_e7eb_11ea_a1b5_9cb6d0b98b60\" ><thead>    <tr>        <th class=\"blank level0\" ></th>        <th class=\"col_heading level0 col0\" >mean</th>        <th class=\"col_heading level0 col1\" >median</th>        <th class=\"col_heading level0 col2\" >var</th>        <th class=\"col_heading level0 col3\" >std</th>        <th class=\"col_heading level0 col4\" >sem</th>    </tr>    <tr>        <th class=\"index_name level0\" >Drug Regimen</th>        <th class=\"blank\" ></th>        <th class=\"blank\" ></th>        <th class=\"blank\" ></th>        <th class=\"blank\" ></th>        <th class=\"blank\" ></th>    </tr></thead><tbody>\n",
       "                <tr>\n",
       "                        <th id=\"T_eb7b1678_e7eb_11ea_a1b5_9cb6d0b98b60level0_row0\" class=\"row_heading level0 row0\" >Capomulin</th>\n",
       "                        <td id=\"T_eb7b1678_e7eb_11ea_a1b5_9cb6d0b98b60row0_col0\" class=\"data row0 col0\" >40.68</td>\n",
       "                        <td id=\"T_eb7b1678_e7eb_11ea_a1b5_9cb6d0b98b60row0_col1\" class=\"data row0 col1\" >41.56</td>\n",
       "                        <td id=\"T_eb7b1678_e7eb_11ea_a1b5_9cb6d0b98b60row0_col2\" class=\"data row0 col2\" >24.95</td>\n",
       "                        <td id=\"T_eb7b1678_e7eb_11ea_a1b5_9cb6d0b98b60row0_col3\" class=\"data row0 col3\" >4.99</td>\n",
       "                        <td id=\"T_eb7b1678_e7eb_11ea_a1b5_9cb6d0b98b60row0_col4\" class=\"data row0 col4\" >0.33</td>\n",
       "            </tr>\n",
       "            <tr>\n",
       "                        <th id=\"T_eb7b1678_e7eb_11ea_a1b5_9cb6d0b98b60level0_row1\" class=\"row_heading level0 row1\" >Ceftamin</th>\n",
       "                        <td id=\"T_eb7b1678_e7eb_11ea_a1b5_9cb6d0b98b60row1_col0\" class=\"data row1 col0\" >52.59</td>\n",
       "                        <td id=\"T_eb7b1678_e7eb_11ea_a1b5_9cb6d0b98b60row1_col1\" class=\"data row1 col1\" >51.78</td>\n",
       "                        <td id=\"T_eb7b1678_e7eb_11ea_a1b5_9cb6d0b98b60row1_col2\" class=\"data row1 col2\" >39.29</td>\n",
       "                        <td id=\"T_eb7b1678_e7eb_11ea_a1b5_9cb6d0b98b60row1_col3\" class=\"data row1 col3\" >6.27</td>\n",
       "                        <td id=\"T_eb7b1678_e7eb_11ea_a1b5_9cb6d0b98b60row1_col4\" class=\"data row1 col4\" >0.47</td>\n",
       "            </tr>\n",
       "            <tr>\n",
       "                        <th id=\"T_eb7b1678_e7eb_11ea_a1b5_9cb6d0b98b60level0_row2\" class=\"row_heading level0 row2\" >Infubinol</th>\n",
       "                        <td id=\"T_eb7b1678_e7eb_11ea_a1b5_9cb6d0b98b60row2_col0\" class=\"data row2 col0\" >52.88</td>\n",
       "                        <td id=\"T_eb7b1678_e7eb_11ea_a1b5_9cb6d0b98b60row2_col1\" class=\"data row2 col1\" >51.82</td>\n",
       "                        <td id=\"T_eb7b1678_e7eb_11ea_a1b5_9cb6d0b98b60row2_col2\" class=\"data row2 col2\" >43.13</td>\n",
       "                        <td id=\"T_eb7b1678_e7eb_11ea_a1b5_9cb6d0b98b60row2_col3\" class=\"data row2 col3\" >6.57</td>\n",
       "                        <td id=\"T_eb7b1678_e7eb_11ea_a1b5_9cb6d0b98b60row2_col4\" class=\"data row2 col4\" >0.49</td>\n",
       "            </tr>\n",
       "            <tr>\n",
       "                        <th id=\"T_eb7b1678_e7eb_11ea_a1b5_9cb6d0b98b60level0_row3\" class=\"row_heading level0 row3\" >Ketapril</th>\n",
       "                        <td id=\"T_eb7b1678_e7eb_11ea_a1b5_9cb6d0b98b60row3_col0\" class=\"data row3 col0\" >55.24</td>\n",
       "                        <td id=\"T_eb7b1678_e7eb_11ea_a1b5_9cb6d0b98b60row3_col1\" class=\"data row3 col1\" >53.70</td>\n",
       "                        <td id=\"T_eb7b1678_e7eb_11ea_a1b5_9cb6d0b98b60row3_col2\" class=\"data row3 col2\" >68.55</td>\n",
       "                        <td id=\"T_eb7b1678_e7eb_11ea_a1b5_9cb6d0b98b60row3_col3\" class=\"data row3 col3\" >8.28</td>\n",
       "                        <td id=\"T_eb7b1678_e7eb_11ea_a1b5_9cb6d0b98b60row3_col4\" class=\"data row3 col4\" >0.60</td>\n",
       "            </tr>\n",
       "            <tr>\n",
       "                        <th id=\"T_eb7b1678_e7eb_11ea_a1b5_9cb6d0b98b60level0_row4\" class=\"row_heading level0 row4\" >Naftisol</th>\n",
       "                        <td id=\"T_eb7b1678_e7eb_11ea_a1b5_9cb6d0b98b60row4_col0\" class=\"data row4 col0\" >54.33</td>\n",
       "                        <td id=\"T_eb7b1678_e7eb_11ea_a1b5_9cb6d0b98b60row4_col1\" class=\"data row4 col1\" >52.51</td>\n",
       "                        <td id=\"T_eb7b1678_e7eb_11ea_a1b5_9cb6d0b98b60row4_col2\" class=\"data row4 col2\" >66.17</td>\n",
       "                        <td id=\"T_eb7b1678_e7eb_11ea_a1b5_9cb6d0b98b60row4_col3\" class=\"data row4 col3\" >8.13</td>\n",
       "                        <td id=\"T_eb7b1678_e7eb_11ea_a1b5_9cb6d0b98b60row4_col4\" class=\"data row4 col4\" >0.60</td>\n",
       "            </tr>\n",
       "            <tr>\n",
       "                        <th id=\"T_eb7b1678_e7eb_11ea_a1b5_9cb6d0b98b60level0_row5\" class=\"row_heading level0 row5\" >Placebo</th>\n",
       "                        <td id=\"T_eb7b1678_e7eb_11ea_a1b5_9cb6d0b98b60row5_col0\" class=\"data row5 col0\" >54.03</td>\n",
       "                        <td id=\"T_eb7b1678_e7eb_11ea_a1b5_9cb6d0b98b60row5_col1\" class=\"data row5 col1\" >52.29</td>\n",
       "                        <td id=\"T_eb7b1678_e7eb_11ea_a1b5_9cb6d0b98b60row5_col2\" class=\"data row5 col2\" >61.17</td>\n",
       "                        <td id=\"T_eb7b1678_e7eb_11ea_a1b5_9cb6d0b98b60row5_col3\" class=\"data row5 col3\" >7.82</td>\n",
       "                        <td id=\"T_eb7b1678_e7eb_11ea_a1b5_9cb6d0b98b60row5_col4\" class=\"data row5 col4\" >0.58</td>\n",
       "            </tr>\n",
       "            <tr>\n",
       "                        <th id=\"T_eb7b1678_e7eb_11ea_a1b5_9cb6d0b98b60level0_row6\" class=\"row_heading level0 row6\" >Propriva</th>\n",
       "                        <td id=\"T_eb7b1678_e7eb_11ea_a1b5_9cb6d0b98b60row6_col0\" class=\"data row6 col0\" >52.32</td>\n",
       "                        <td id=\"T_eb7b1678_e7eb_11ea_a1b5_9cb6d0b98b60row6_col1\" class=\"data row6 col1\" >50.45</td>\n",
       "                        <td id=\"T_eb7b1678_e7eb_11ea_a1b5_9cb6d0b98b60row6_col2\" class=\"data row6 col2\" >43.85</td>\n",
       "                        <td id=\"T_eb7b1678_e7eb_11ea_a1b5_9cb6d0b98b60row6_col3\" class=\"data row6 col3\" >6.62</td>\n",
       "                        <td id=\"T_eb7b1678_e7eb_11ea_a1b5_9cb6d0b98b60row6_col4\" class=\"data row6 col4\" >0.54</td>\n",
       "            </tr>\n",
       "            <tr>\n",
       "                        <th id=\"T_eb7b1678_e7eb_11ea_a1b5_9cb6d0b98b60level0_row7\" class=\"row_heading level0 row7\" >Ramicane</th>\n",
       "                        <td id=\"T_eb7b1678_e7eb_11ea_a1b5_9cb6d0b98b60row7_col0\" class=\"data row7 col0\" >40.22</td>\n",
       "                        <td id=\"T_eb7b1678_e7eb_11ea_a1b5_9cb6d0b98b60row7_col1\" class=\"data row7 col1\" >40.67</td>\n",
       "                        <td id=\"T_eb7b1678_e7eb_11ea_a1b5_9cb6d0b98b60row7_col2\" class=\"data row7 col2\" >23.49</td>\n",
       "                        <td id=\"T_eb7b1678_e7eb_11ea_a1b5_9cb6d0b98b60row7_col3\" class=\"data row7 col3\" >4.85</td>\n",
       "                        <td id=\"T_eb7b1678_e7eb_11ea_a1b5_9cb6d0b98b60row7_col4\" class=\"data row7 col4\" >0.32</td>\n",
       "            </tr>\n",
       "            <tr>\n",
       "                        <th id=\"T_eb7b1678_e7eb_11ea_a1b5_9cb6d0b98b60level0_row8\" class=\"row_heading level0 row8\" >Stelasyn</th>\n",
       "                        <td id=\"T_eb7b1678_e7eb_11ea_a1b5_9cb6d0b98b60row8_col0\" class=\"data row8 col0\" >54.23</td>\n",
       "                        <td id=\"T_eb7b1678_e7eb_11ea_a1b5_9cb6d0b98b60row8_col1\" class=\"data row8 col1\" >52.43</td>\n",
       "                        <td id=\"T_eb7b1678_e7eb_11ea_a1b5_9cb6d0b98b60row8_col2\" class=\"data row8 col2\" >59.45</td>\n",
       "                        <td id=\"T_eb7b1678_e7eb_11ea_a1b5_9cb6d0b98b60row8_col3\" class=\"data row8 col3\" >7.71</td>\n",
       "                        <td id=\"T_eb7b1678_e7eb_11ea_a1b5_9cb6d0b98b60row8_col4\" class=\"data row8 col4\" >0.57</td>\n",
       "            </tr>\n",
       "            <tr>\n",
       "                        <th id=\"T_eb7b1678_e7eb_11ea_a1b5_9cb6d0b98b60level0_row9\" class=\"row_heading level0 row9\" >Zoniferol</th>\n",
       "                        <td id=\"T_eb7b1678_e7eb_11ea_a1b5_9cb6d0b98b60row9_col0\" class=\"data row9 col0\" >53.24</td>\n",
       "                        <td id=\"T_eb7b1678_e7eb_11ea_a1b5_9cb6d0b98b60row9_col1\" class=\"data row9 col1\" >51.82</td>\n",
       "                        <td id=\"T_eb7b1678_e7eb_11ea_a1b5_9cb6d0b98b60row9_col2\" class=\"data row9 col2\" >48.53</td>\n",
       "                        <td id=\"T_eb7b1678_e7eb_11ea_a1b5_9cb6d0b98b60row9_col3\" class=\"data row9 col3\" >6.97</td>\n",
       "                        <td id=\"T_eb7b1678_e7eb_11ea_a1b5_9cb6d0b98b60row9_col4\" class=\"data row9 col4\" >0.52</td>\n",
       "            </tr>\n",
       "    </tbody></table>"
      ],
      "text/plain": [
       "<pandas.io.formats.style.Styler at 0x1b79ff0d978>"
      ]
     },
     "execution_count": 181,
     "metadata": {},
     "output_type": "execute_result"
    }
   ],
   "source": [
    "# Generate a summary statistics table of mean, median, variance, standard deviation, and SEM of the tumor volume for each regimen.\n",
    "# This method produces everything in a single groupby function\n",
    "group = combined_df.groupby(\"Drug Regimen\")\n",
    "\n",
    "summary_single_group_df = pd.DataFrame(group.agg([\"mean\", \"median\", \"var\", \"std\", \"sem\"])[\"Tumor Volume (mm3)\"])\n",
    "\n",
    "summary_single_group_df.style.format({\n",
    "\"mean\": \"{:,.2f}\",\n",
    "\"median\": \"{:,.2f}\",\n",
    "\"var\": \"{:,.2f}\",\n",
    "\"std\": \"{:,.2f}\",\n",
    "\"sem\": \"{:,.2f}\"})"
   ]
  },
  {
   "cell_type": "markdown",
   "metadata": {},
   "source": [
    "## Bar and Pie Charts"
   ]
  },
  {
   "cell_type": "code",
   "execution_count": 200,
   "metadata": {},
   "outputs": [
    {
     "data": {
      "text/plain": [
       "Text(0.5, 1.0, 'Number of Mice per Treatment')"
      ]
     },
     "execution_count": 200,
     "metadata": {},
     "output_type": "execute_result"
    },
    {
     "data": {
      "image/png": "[encoded data removed]",
      "text/plain": [
       "<Figure size 1440x720 with 1 Axes>"
      ]
     },
     "metadata": {
      "needs_background": "light"
     },
     "output_type": "display_data"
    }
   ],
   "source": [
    "# Generate a bar plot showing the total number of mice for each treatment throughout the course of the study using pandas. \n",
    "mice_by_treatment = combined_df.groupby([\"Drug Regimen\"]).count()[\"Mouse ID\"] \n",
    "\n",
    "plot_pandas = mice_by_treatment.plot.bar(figsize=(20,10), color='c')\n",
    "\n",
    "plt.xlabel(\"Drug Regimen\")\n",
    "plt.ylabel(\"Number of Mice\")\n",
    "plt.title(\"Number of Mice per Treatment\")"
   ]
  },
  {
   "cell_type": "code",
   "execution_count": 202,
   "metadata": {},
   "outputs": [
    {
     "data": {
      "text/plain": [
       "Text(0.5, 1.0, 'Number of Mice per Treatment')"
      ]
     },
     "execution_count": 202,
     "metadata": {},
     "output_type": "execute_result"
    },
    {
     "data": {
      "image/png": "[encoded data removed]",
      "text/plain": [
       "<Figure size 1440x720 with 1 Axes>"
      ]
     },
     "metadata": {
      "needs_background": "light"
     },
     "output_type": "display_data"
    }
   ],
   "source": [
    "# Generate a bar plot showing the total number of mice for each treatment throughout the course of the study using pyplot.\n",
    "the_mice =(combined_df.groupby([\"Drug Regimen\"])[\"Mouse ID\"].count()).tolist()\n",
    "\n",
    "x_axis = np.arange(len(mice_by_treatment))\n",
    "fig1, ax1 = plt.subplots(figsize=(20, 10))\n",
    "\n",
    "plt.bar(x_axis, the_mice, color='c', alpha=0.8, align='edge')\n",
    "\n",
    "tick_labels = [value for value in x_axis]\n",
    "plt.xticks(tick_labels, ['Capomulin', 'Ceftamin', 'Infubinol', 'Ketapril', 'Naftisol', 'Placebo', 'Propriva', 'Ramicane', 'Stelasyn', 'Zoniferol'],  rotation='vertical')\n",
    "\n",
    "plt.xlabel(\"Drug Regimen\")\n",
    "plt.ylabel(\"Number of Mice\")\n",
    "plt.title(\"Number of Mice per Treatment\")"
   ]
  },
  {
   "cell_type": "code",
   "execution_count": 195,
   "metadata": {},
   "outputs": [],
   "source": [
    "# Generate a pie plot showing the distribution of female versus male mice using pandas\n",
    "\n"
   ]
  },
  {
   "cell_type": "code",
   "execution_count": 12,
   "metadata": {},
   "outputs": [],
   "source": [
    "# Generate a pie plot showing the distribution of female versus male mice using pyplot\n",
    "\n"
   ]
  },
  {
   "cell_type": "markdown",
   "metadata": {},
   "source": [
    "## Quartiles, Outliers and Boxplots"
   ]
  },
  {
   "cell_type": "code",
   "execution_count": 13,
   "metadata": {},
   "outputs": [],
   "source": [
    "# Calculate the final tumor volume of each mouse across four of the treatment regimens:  \n",
    "# Capomulin, Ramicane, Infubinol, and Ceftamin\n",
    "\n",
    "# Start by getting the last (greatest) timepoint for each mouse\n",
    "\n",
    "\n",
    "# Merge this group df with the original dataframe to get the tumor volume at the last timepoint\n"
   ]
  },
  {
   "cell_type": "code",
   "execution_count": 14,
   "metadata": {},
   "outputs": [],
   "source": [
    "# Put treatments into a list for for loop (and later for plot labels)\n",
    "\n",
    "\n",
    "# Create empty list to fill with tumor vol data (for plotting)\n",
    "\n",
    "\n",
    "# Calculate the IQR and quantitatively determine if there are any potential outliers. \n",
    "\n",
    "    \n",
    "    # Locate the rows which contain mice on each drug and get the tumor volumes\n",
    "    \n",
    "    \n",
    "    # add subset \n",
    "    \n",
    "    \n",
    "    # Determine outliers using upper and lower bounds\n",
    "    "
   ]
  },
  {
   "cell_type": "code",
   "execution_count": 15,
   "metadata": {},
   "outputs": [],
   "source": [
    "# Generate a box plot of the final tumor volume of each mouse across four regimens of interest\n"
   ]
  },
  {
   "cell_type": "markdown",
   "metadata": {},
   "source": [
    "## Line and Scatter Plots"
   ]
  },
  {
   "cell_type": "code",
   "execution_count": 16,
   "metadata": {},
   "outputs": [],
   "source": [
    "# Generate a line plot of time point versus tumor volume for a mouse treated with Capomulin\n"
   ]
  },
  {
   "cell_type": "code",
   "execution_count": 17,
   "metadata": {},
   "outputs": [],
   "source": [
    "# Generate a scatter plot of mouse weight versus average tumor volume for the Capomulin regimen\n"
   ]
  },
  {
   "cell_type": "markdown",
   "metadata": {},
   "source": [
    "## Correlation and Regression"
   ]
  },
  {
   "cell_type": "code",
   "execution_count": 18,
   "metadata": {},
   "outputs": [],
   "source": [
    "# Calculate the correlation coefficient and linear regression model \n",
    "# for mouse weight and average tumor volume for the Capomulin regimen\n"
   ]
  },
  {
   "cell_type": "markdown",
   "metadata": {},
   "source": [
    "## Sources"
   ]
  },
  {
   "cell_type": "markdown",
   "metadata": {},
   "source": [
    "https://appdividend.com/2020/03/07/python-pandas-find-duplicate-rows-in-dataframe-based-on-all-or-selected-columns/#:~:text=duplicated()%20is%20an%20inbuilt,columns%2C%20then%20use%20the%20pandas.\n",
    "\n",
    "https://stackoverflow.com/questions/18172851/deleting-dataframe-row-in-pandas-based-on-column-value\n",
    "\n",
    "https://pandas.pydata.org/pandas-docs/stable/reference/api/pandas.core.groupby.SeriesGroupBy.aggregate.html"
   ]
  }
 ],
 "metadata": {
  "anaconda-cloud": {},
  "kernelspec": {
   "display_name": "Python 3",
   "language": "python",
   "name": "python3"
  },
  "language_info": {
   "codemirror_mode": {
    "name": "ipython",
    "version": 3
   },
   "file_extension": ".py",
   "mimetype": "text/x-python",
   "name": "python",
   "nbconvert_exporter": "python",
   "pygments_lexer": "ipython3",
   "version": "3.6.10"
  }
 },
 "nbformat": 4,
 "nbformat_minor": 2
}
